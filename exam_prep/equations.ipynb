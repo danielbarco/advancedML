{
 "cells": [
  {
   "attachments": {},
   "cell_type": "markdown",
   "metadata": {},
   "source": [
    "\n",
    "# Equations for Advanced Machine Learning"
   ]
  },
  {
   "attachments": {},
   "cell_type": "markdown",
   "metadata": {},
   "source": [
    "## Transformers"
   ]
  },
  {
   "attachments": {},
   "cell_type": "markdown",
   "metadata": {},
   "source": [
    "Dimensions of the original paper:\n",
    "\n",
    "$d_k$ = 64, dimension of the query and the key <br>\n",
    "$d_v$ = 64, dimension of the value<br>\n",
    "$d_{model}$ = 512 <br>\n",
    "h = 8 <br>\n",
    "$T_x$: variable sequence length; number of keys to compare the query with <br>"
   ]
  },
  {
   "attachments": {},
   "cell_type": "markdown",
   "metadata": {},
   "source": [
    "$\\text{Attention}(Q, K, V) = \\text{softmax}\\left(\\frac{QK^T}{\\sqrt{d_k}}\\right) V$\n",
    "\n",
    "$Q$ = query  <br>\n",
    "$K^T$ = key <br>\n",
    "$V$ = value <br>\n",
    "$d_k$ = dimension of keys  <br>\n",
    "$T$ = transpose (in order for us to multiply the matrices)"
   ]
  },
  {
   "attachments": {},
   "cell_type": "markdown",
   "metadata": {},
   "source": []
  },
  {
   "attachments": {},
   "cell_type": "markdown",
   "metadata": {},
   "source": [
    "\n",
    "$\\text{Multihead}(Q, K, V) = \\text{Concat}(\\text{head}_1, \\text{head}_2, ..., \\text{head}_h)W_O$\n",
    "\n",
    "$W_O \\in \\mathbb{R}^{h d_v \\times d_{model}}$ \n",
    "\n",
    "$W_O = 512 \\times 512$"
   ]
  },
  {
   "attachments": {},
   "cell_type": "markdown",
   "metadata": {},
   "source": []
  },
  {
   "attachments": {},
   "cell_type": "markdown",
   "metadata": {},
   "source": [
    " $PE_{(pos,2i)} = \\sin(\\frac{{pos}}{{10000^{(\\frac{{2i}}{{d_{\\text{{model}}}}})}}})$\n",
    "\n",
    "$PE_{(pos,2i+1)} = \\cos(\\frac{{pos}}{{10000^{(\\frac{{2i}}{{d_{\\text{{model}}}}})}}})$."
   ]
  },
  {
   "attachments": {},
   "cell_type": "markdown",
   "metadata": {},
   "source": [
    "## Reinforcement Learning"
   ]
  },
  {
   "attachments": {},
   "cell_type": "markdown",
   "metadata": {},
   "source": [
    "Bellman equation:\n",
    "\n",
    "$V(s) = R(s) + \\gamma \\sum_{s'} P(s, a, s') V(s')$"
   ]
  },
  {
   "attachments": {},
   "cell_type": "markdown",
   "metadata": {},
   "source": [
    "Bellman optimality eqution:\n",
    "\n",
    "$Q^*(s, a) = R(s, a) + \\gamma \\sum_{s'} P(s, a, s') \\max_{a'} Q^*(s', a')$"
   ]
  },
  {
   "attachments": {},
   "cell_type": "markdown",
   "metadata": {},
   "source": []
  }
 ],
 "metadata": {
  "language_info": {
   "name": "python"
  },
  "orig_nbformat": 4
 },
 "nbformat": 4,
 "nbformat_minor": 2
}
