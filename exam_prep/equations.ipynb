{
 "cells": [
  {
   "attachments": {},
   "cell_type": "markdown",
   "metadata": {},
   "source": [
    "\n",
    "# Equations for Advanced Machine Learning"
   ]
  },
  {
   "attachments": {},
   "cell_type": "markdown",
   "metadata": {},
   "source": [
    "## Transformers"
   ]
  },
  {
   "attachments": {},
   "cell_type": "markdown",
   "metadata": {},
   "source": [
    "Dimensions of the original paper:\n",
    "\n",
    "$d_k$ = 64, dimension of the query and the key <br>\n",
    "$d_v$ = 64, dimension of the value<br>\n",
    "$d_{model}$ = 512 <br>\n",
    "h = 8 <br>\n",
    "$T_x$: variable sequence length; number of keys to compare the query with <br>"
   ]
  },
  {
   "attachments": {},
   "cell_type": "markdown",
   "metadata": {},
   "source": [
    "$\\text{Attention}(Q, K, V) = \\text{softmax}\\left(\\frac{QK^T}{\\sqrt{d_k}}\\right) V$\n",
    "\n",
    "$Q$ = query  <br>\n",
    "$K^T$ = key <br>\n",
    "$V$ = value <br>\n",
    "$d_k$ = dimension of keys  <br>\n",
    "$T$ = transpose (in order for us to multiply the matrices)"
   ]
  },
  {
   "attachments": {},
   "cell_type": "markdown",
   "metadata": {},
   "source": []
  },
  {
   "attachments": {},
   "cell_type": "markdown",
   "metadata": {},
   "source": [
    "\n",
    "$\\text{Multihead}(Q, K, V) = \\text{Concat}(\\text{head}_1, \\text{head}_2, ..., \\text{head}_h)W_O$\n",
    "\n",
    "$W_O \\in \\mathbb{R}^{h d_v \\times d_{model}}$ \n",
    "\n",
    "$W_O = 512 \\times 512$"
   ]
  },
  {
   "attachments": {},
   "cell_type": "markdown",
   "metadata": {},
   "source": []
  },
  {
   "attachments": {},
   "cell_type": "markdown",
   "metadata": {},
   "source": [
    " $PE_{(pos,2i)} = \\sin(\\frac{{pos}}{{10000^{(\\frac{{2i}}{{d_{\\text{{model}}}}})}}})$\n",
    "\n",
    "$PE_{(pos,2i+1)} = \\cos(\\frac{{pos}}{{10000^{(\\frac{{2i}}{{d_{\\text{{model}}}}})}}})$."
   ]
  },
  {
   "attachments": {},
   "cell_type": "markdown",
   "metadata": {},
   "source": [
    "## Reinforcement Learning"
   ]
  },
  {
   "attachments": {},
   "cell_type": "markdown",
   "metadata": {},
   "source": [
    "Bellman equation:\n",
    "\n",
    "$V(s) = R(s) + \\gamma \\sum_{s'} P(s, a, s') V(s')$"
   ]
  },
  {
   "attachments": {},
   "cell_type": "markdown",
   "metadata": {},
   "source": [
    "Bellman optimality eqution:\n",
    "\n",
    "$Q^*(s, a) = R(s, a) + \\gamma \\sum_{s'} P(s, a, s') \\max_{a'} Q^*(s', a')$"
   ]
  },
  {
   "attachments": {},
   "cell_type": "markdown",
   "metadata": {},
   "source": [
    "$$V_{\\pi}(s) = \\sum_{a \\in A} \\pi(a|s) \\sum_{s' \\in S} P(s'|s,a) [R(s,a,s') + \\gamma V_{\\pi}(s')]$$\n"
   ]
  },
  {
   "attachments": {},
   "cell_type": "markdown",
   "metadata": {},
   "source": [
    "Iterative Policy Evaluation (p. 36)\n",
    "\n",
    "$$v_{π'}(s) = \\sum_{s' \\in S} P(s'|s,a) [R(s,a,s') + \\gamma V(s')]$$"
   ]
  },
  {
   "attachments": {},
   "cell_type": "markdown",
   "metadata": {},
   "source": []
  },
  {
   "attachments": {},
   "cell_type": "markdown",
   "metadata": {},
   "source": [
    "Value iteration (book p.83)\n",
    "\n",
    "$v_{k + 1}(s) = \\max_{a} \\sum_{s', r} p(s', r|s,a) [r + \\gamma v_k(s')]$\n",
    "\n",
    "$v_k$ The sequence {$v_k$} of approximate value functins convergeces to the desired value function \n",
    "\n",
    "basically take the bellman optimality equation and turn it into an iterative update (which is denoted by k). Get closer and closer to optimal solution by feeding it back to itself iteratively.\n",
    "\n",
    "https://youtu.be/Nd1-UUMVfz4?list=PLqYmG7hTraZDM-OYHWgPebj2MfCFzFObQ&t=4897\n",
    "\n",
    "$$v_π: \\lim_{k → ∞} {v_k} → ∞ $$"
   ]
  },
  {
   "attachments": {},
   "cell_type": "markdown",
   "metadata": {},
   "source": [
    "$V(s) \\leftarrow \\max_{a \\in A} \\sum_{s' \\in S} P(s'|s,a) [R(s,a,s') + \\gamma V(s')]$"
   ]
  },
  {
   "attachments": {},
   "cell_type": "markdown",
   "metadata": {},
   "source": [
    "Dimensions of the original paper:\n",
    "\n",
    "$d_k$ = 64, dimension of the query and the key <br>\n",
    "$d_v$ = 64, dimension of the value<br>\n",
    "$d_{model}$ = 512 <br>\n",
    "h = 8 <br>\n",
    "$T_x$: variable sequence length; number of keys to compare the query with <br>"
   ]
  },
  {
   "cell_type": "code",
   "execution_count": null,
   "metadata": {},
   "outputs": [],
   "source": [
    "# policy iteration\n"
   ]
  }
 ],
 "metadata": {
  "kernelspec": {
   "display_name": "venv_advml",
   "language": "python",
   "name": "python3"
  },
  "language_info": {
   "codemirror_mode": {
    "name": "ipython",
    "version": 3
   },
   "file_extension": ".py",
   "mimetype": "text/x-python",
   "name": "python",
   "nbconvert_exporter": "python",
   "pygments_lexer": "ipython3",
   "version": "3.10.9"
  },
  "orig_nbformat": 4
 },
 "nbformat": 4,
 "nbformat_minor": 2
}
