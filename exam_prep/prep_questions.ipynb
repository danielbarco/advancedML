{
 "cells": [
  {
   "attachments": {},
   "cell_type": "markdown",
   "metadata": {},
   "source": [
    "# Exam Prep Questions"
   ]
  },
  {
   "attachments": {},
   "cell_type": "markdown",
   "metadata": {},
   "source": [
    "## Transformers"
   ]
  },
  {
   "attachments": {},
   "cell_type": "markdown",
   "metadata": {},
   "source": [
    "What different concepts do transformers combine?\n",
    "- residual connection\n",
    "- PE\n",
    "- attention\n",
    "- linear layers\n",
    "- multihead (ensemble)"
   ]
  },
  {
   "attachments": {},
   "cell_type": "markdown",
   "metadata": {},
   "source": [
    "Tf-idf equation and explanation\n"
   ]
  },
  {
   "attachments": {},
   "cell_type": "markdown",
   "metadata": {},
   "source": [
    "## GNN"
   ]
  },
  {
   "attachments": {},
   "cell_type": "markdown",
   "metadata": {},
   "source": [
    "Why do we need GNN?\n",
    "- node attribute prediction\n",
    "- edge pred\n",
    "- topological\n",
    "- sequence & grid data"
   ]
  },
  {
   "attachments": {},
   "cell_type": "markdown",
   "metadata": {},
   "source": [
    "Permutation invariance:\n",
    "- regardless of orderning output should remain the same\n"
   ]
  },
  {
   "attachments": {},
   "cell_type": "markdown",
   "metadata": {},
   "source": []
  },
  {
   "attachments": {},
   "cell_type": "markdown",
   "metadata": {},
   "source": [
    "## Reinforcement Learning"
   ]
  },
  {
   "attachments": {},
   "cell_type": "markdown",
   "metadata": {},
   "source": [
    "Why do we need Monte Carlo Methods in RL?"
   ]
  },
  {
   "attachments": {},
   "cell_type": "markdown",
   "metadata": {},
   "source": [
    "Explain the Bellman equation mathematically and conceptionally\n"
   ]
  },
  {
   "attachments": {},
   "cell_type": "markdown",
   "metadata": {},
   "source": [
    "SARSA on policy vs SARSA and Q learning and SARSA off policy\n"
   ]
  },
  {
   "attachments": {},
   "cell_type": "markdown",
   "metadata": {},
   "source": [
    "What is the difference between off-policy and on-policy methods?"
   ]
  },
  {
   "attachments": {},
   "cell_type": "markdown",
   "metadata": {},
   "source": [
    "What is the difference between TD and Monte Carlo?"
   ]
  },
  {
   "attachments": {},
   "cell_type": "markdown",
   "metadata": {},
   "source": [
    "Why is it called SARSA?"
   ]
  },
  {
   "attachments": {},
   "cell_type": "markdown",
   "metadata": {},
   "source": [
    "## Diffusion"
   ]
  },
  {
   "attachments": {},
   "cell_type": "markdown",
   "metadata": {},
   "source": [
    "What is the problem and what does the reparametrerization trick solve?\n",
    "- gets a sampling process from a distribution $q_\\psi(z|x)$ into a function format:  <br>\n",
    "    $z = \\mu_\\psi(x) + \\sigma_\\psi(x) \\odot \\epsilon $ with $\\epsilon  ~  N(\\epsilon; 0, I)$\n",
    "- this makes the sampling process differentiable"
   ]
  },
  {
   "attachments": {},
   "cell_type": "markdown",
   "metadata": {},
   "source": [
    "What do we want to minimise and maximise in the ELBO term and why?"
   ]
  },
  {
   "attachments": {},
   "cell_type": "markdown",
   "metadata": {},
   "source": [
    "What is the difference between variational autoencoders and hierarchical variational autoencoders?\n",
    "- steps from x to z (latent space)"
   ]
  },
  {
   "attachments": {},
   "cell_type": "markdown",
   "metadata": {},
   "source": [
    "Difference between ELBO hierarchical Variational Auto encoders and diffusion models?\n",
    "- HVAE we do not have gaussian noise (only latent space)\n",
    "- forward process in diffusion models does not have a network (no parameters)\n"
   ]
  },
  {
   "attachments": {},
   "cell_type": "markdown",
   "metadata": {},
   "source": [
    "What is Stable Diffusion and how is it better than another diffusion model?\n",
    "- Trained perceptual compression models to get all (pixel) input into latent space\n",
    "- Diffusion process takes place in a low-dimensional latent space\n",
    "- Conditional image generation\n",
    "- uses attention & unet for denoising"
   ]
  },
  {
   "attachments": {},
   "cell_type": "markdown",
   "metadata": {},
   "source": [
    "Disadvantage of Diffusion models?  <br>\n",
    "- computationally expensive as approximate many distributions  <br>\n",
    "- Limited Scalability: Diffusion models may face challenges in scaling to very high-dimensional data <br>\n",
    "- Sequential Sampling: Sampling from diffusion models is a sequential process, where each step depends on the previous steps  <br>\n",
    "- Difficulty in Capturing Long-Range Dependencies <br>"
   ]
  },
  {
   "attachments": {},
   "cell_type": "markdown",
   "metadata": {},
   "source": []
  }
 ],
 "metadata": {
  "language_info": {
   "name": "python"
  },
  "orig_nbformat": 4
 },
 "nbformat": 4,
 "nbformat_minor": 2
}
