{
  "cells": [
    {
      "cell_type": "markdown",
      "metadata": {
        "id": "_eSNCOQgs9xZ"
      },
      "source": [
        "<h1><center>\n",
        "    Implementing, fine-tuning and visualizing transformer architectures. <br/>\n",
        "  \n",
        "    \n",
        "    Project 1\n",
        "</center></h1>"
      ]
    },
    {
      "cell_type": "markdown",
      "metadata": {
        "id": "BgsVYaLIs9xc"
      },
      "source": [
        "# Task 1\n",
        "Implement the feed-forward pass of the original transformer network using only numpy, i.e. without machine learning frameworks.\n",
        "\n",
        "Note: All subtasks are voluntary and rather a guide-line of how we would implement the forward pass. You can also choose a different order for implementing the different parts or implement everything in one class/function. The forward pass should return an numpy array.\n",
        "\n",
        "Please initialize the weights using Glorot initialization."
      ]
    },
    {
      "cell_type": "code",
      "execution_count": 4,
      "metadata": {
        "id": "Ze8oZK4Ss9xe"
      },
      "outputs": [],
      "source": [
        "# You will test your implementation on a single array:\n",
        "import numpy as np\n",
        "forward_pass_array = np.array([101, 400, 500, 600, 107, 102])"
      ]
    },
    {
      "cell_type": "code",
      "execution_count": 5,
      "metadata": {
        "id": "ja_Nzhkss9xi"
      },
      "outputs": [],
      "source": [
        "def initialise_layers(shape):\n",
        "    \"\"\"\n",
        "    This function initialises a numpy dense layer given the number of hidden units using Glorot initialization and returns the weights and biases\n",
        "\n",
        "    :param input_shape: shape of the input\n",
        "    :type input_shape: int\n",
        "    :param output_shape: shape of the output\n",
        "    :type output_shape: int\n",
        "    :param n_hidden_units: number of hidden units\n",
        "    :type n_hidden_units: int\n",
        "    \"\"\"\n",
        "    # We use Glorot initialization\n",
        "    weights = np.random.normal(loc= 0.0, scale= np.sqrt(2/ (shape + shape)), size=(shape, shape))\n",
        "    \n",
        "    # numpy dense layer\n",
        "    for i in range(0, shape):\n",
        "        for j in range(0, shape):\n",
        "            weights[i][j] = np.random.normal(loc= 0.0, scale= np.sqrt(2/ (shape + shape)))\n",
        "    return weights\n"
      ]
    },
    {
      "cell_type": "code",
      "execution_count": 6,
      "metadata": {},
      "outputs": [
        {
          "data": {
            "text/plain": [
              "(512, 512)"
            ]
          },
          "execution_count": 6,
          "metadata": {},
          "output_type": "execute_result"
        }
      ],
      "source": [
        "initialise_layers(512).shape"
      ]
    },
    {
      "cell_type": "markdown",
      "metadata": {
        "id": "GHgV0NL0s9xg"
      },
      "source": [
        "## Task 1.1\n",
        "Implement the sinus/cosinus positional encoding used in the original paper [Attention Is All You Need](https://arxiv.org/abs/1706.03762). Implement the token embedding."
      ]
    },
    {
      "cell_type": "code",
      "execution_count": 7,
      "metadata": {
        "id": "9XQOngbhs9xh"
      },
      "outputs": [
        {
          "data": {
            "text/plain": [
              "array([[ 0.00000000e+00,  1.00000000e+00,  0.00000000e+00, ...,\n",
              "         1.00000000e+00,  0.00000000e+00,  1.00000000e+00],\n",
              "       [ 8.41470985e-01,  5.40302306e-01,  8.21856190e-01, ...,\n",
              "         9.99999994e-01,  1.03663293e-04,  9.99999995e-01],\n",
              "       [ 9.09297427e-01, -4.16146837e-01,  9.36414739e-01, ...,\n",
              "         9.99999977e-01,  2.07326584e-04,  9.99999979e-01],\n",
              "       ...,\n",
              "       [ 6.19504237e-02,  9.98079228e-01,  7.98205653e-01, ...,\n",
              "         9.98504463e-01,  5.27401358e-02,  9.98608271e-01],\n",
              "       [ 8.73326668e-01,  4.87135024e-01,  9.49807649e-01, ...,\n",
              "         9.98498582e-01,  5.28436545e-02,  9.98602798e-01],\n",
              "       [ 8.81770401e-01, -4.71678874e-01,  2.83995701e-01, ...,\n",
              "         9.98492690e-01,  5.29471727e-02,  9.98597315e-01]])"
            ]
          },
          "execution_count": 7,
          "metadata": {},
          "output_type": "execute_result"
        }
      ],
      "source": [
        "def positional_encoding(pos:int, i:int, d_model:int):\n",
        "    \"\"\"\n",
        "    pos is the position, i is the dimension and d_model is the model dimension\n",
        "    we use sine and cosine functions of different frequencies\n",
        "\n",
        "    :param pos: _description_\n",
        "    :type pos: int\n",
        "    :param i: _description_\n",
        "    :type i: int\n",
        "    :param d_model: _description_\n",
        "    :type d_model: int\n",
        "    \"\"\"\n",
        "    if i % 2 == 0:\n",
        "        return np.sin(pos / (10000 ** (i / d_model)))\n",
        "    else:\n",
        "        return np.cos(pos / (10000 ** ((i - 1) / d_model)))\n",
        "\n",
        "# Now we can create the positional encoding matrix\n",
        "positional_encoding_matrix = np.array([[positional_encoding(pos, i, 512) for i in range(512)] for pos in range(512)])\n",
        "positional_encoding_matrix\n"
      ]
    },
    {
      "cell_type": "markdown",
      "metadata": {
        "id": "Axt_BqrJs9xh"
      },
      "source": [
        "## Task 1.2\n",
        "Implement a dense layer with the number of hidden units as an argument."
      ]
    },
    {
      "cell_type": "code",
      "execution_count": 12,
      "metadata": {},
      "outputs": [],
      "source": [
        "def dense_layer(X, hidden_layers, activation=None, initializer=\"glorot_uniform\"):\n",
        "    \"\"\"\n",
        "    Computes the output of a dense layer with a specified number of hidden layers.\n",
        "\n",
        "    :param X: input tensor of shape (batch_size, input_dim)\n",
        "    :type X: numpy.ndarray\n",
        "\n",
        "    :param hidden_layers: list of integers specifying the number of neurons in each hidden layer\n",
        "    :type hidden_layers: list[int]\n",
        "\n",
        "    :param activation: activation function (default: None)\n",
        "    :type activation: callable\n",
        "\n",
        "    :param initializer: weight initialization method (default: \"glorot_uniform\")\n",
        "    :type initializer: str\n",
        "\n",
        "    :return: output array of shape (batch_size, output_dim)\n",
        "    :rtype: numpy.ndarray\n",
        "    \"\"\"\n",
        "    input_dim = X.shape[1]\n",
        "\n",
        "    # Initialize weights and biases for the hidden layers\n",
        "    weights = []\n",
        "    biases = []\n",
        "    output_dim = None\n",
        "    for layer_dim in hidden_layers:\n",
        "        if initializer == \"glorot_uniform\":\n",
        "            # Glorot initialization for uniform distribution\n",
        "            bound = np.sqrt(6.0 / (input_dim + layer_dim))\n",
        "            weight = np.random.uniform(low=-bound, high=bound, size=(input_dim, layer_dim))\n",
        "        elif initializer == \"glorot_normal\":\n",
        "            # Glorot initialization for normal distribution\n",
        "            std_dev = np.sqrt(2.0 / (input_dim + layer_dim))\n",
        "            weight = np.random.normal(loc=0.0, scale=std_dev, size=(input_dim, layer_dim))\n",
        "        else:\n",
        "            # Random initialization\n",
        "            weight = np.random.randn(input_dim, layer_dim)\n",
        "\n",
        "        bias = np.zeros(layer_dim)\n",
        "\n",
        "        weights.append(weight)\n",
        "        biases.append(bias)\n",
        "\n",
        "        input_dim = layer_dim\n",
        "        output_dim = layer_dim\n",
        "\n",
        "    # Initialize weights and biases for the output layer\n",
        "    if initializer == \"glorot_uniform\":\n",
        "        # Glorot initialization for uniform distribution\n",
        "        bound = np.sqrt(6.0 / (input_dim + X.shape[1]))\n",
        "        weight = np.random.uniform(low=-bound, high=bound, size=(output_dim, X.shape[1]))\n",
        "    elif initializer == \"glorot_normal\":\n",
        "        # Glorot initialization for normal distribution\n",
        "        std_dev = np.sqrt(2.0 / (input_dim + X.shape[1]))\n",
        "        weight = np.random.normal(loc=0.0, scale=std_dev, size=(output_dim, X.shape[1]))\n",
        "    else:\n",
        "        # Random initialization\n",
        "        weight = np.random.randn(output_dim, X.shape[1])\n",
        "\n",
        "    bias = np.zeros(X.shape[1])\n",
        "\n",
        "    weights.append(weight)\n",
        "    biases.append(bias)\n",
        "\n",
        "    # Compute the output of each layer\n",
        "    output = X\n",
        "    for i in range(len(weights)):\n",
        "        output = np.dot(output, weights[i]) + biases[i]\n",
        "        if i < len(weights) - 1 and activation is not None:\n",
        "            output = activation(output)\n",
        "\n",
        "    return output\n"
      ]
    },
    {
      "cell_type": "code",
      "execution_count": 14,
      "metadata": {},
      "outputs": [
        {
          "data": {
            "text/plain": [
              "(32, 64)"
            ]
          },
          "execution_count": 14,
          "metadata": {},
          "output_type": "execute_result"
        }
      ],
      "source": [
        "# Create input tensor X of shape (batch_size, input_dim)\n",
        "X = np.random.rand(32, 64)\n",
        "\n",
        "# Define the number of neurons in each hidden layer\n",
        "hidden_layers = [128, 256]\n",
        "\n",
        "# Compute output of dense layer with ReLU activation\n",
        "output = dense_layer(X, hidden_layers)\n",
        "output.shape\n"
      ]
    },
    {
      "cell_type": "markdown",
      "metadata": {
        "id": "UsSfCiNKs9xj"
      },
      "source": [
        "## Task 1.3\n",
        "Implement all activation function such that they are compatible with the dense layer."
      ]
    },
    {
      "cell_type": "code",
      "execution_count": 9,
      "metadata": {
        "id": "tg6qEQPws9xk"
      },
      "outputs": [],
      "source": [
        "# Implement all activation function such that they are compatible with the dense layer.\n",
        "def activation(hidden_layer):\n",
        "    \"\"\" Relu activation\n",
        "\n",
        "    :param hidden_layer: hidden layer for activation\n",
        "    :type hidden_layer: np.array\n",
        "    :param activation: ReLU activated hidden layer\n",
        "    :type activation: np.array\n",
        "    \"\"\"\n",
        "    # Implement the relu activation function\n",
        "    return np.maximum(0, hidden_layer)"
      ]
    },
    {
      "cell_type": "code",
      "execution_count": 10,
      "metadata": {},
      "outputs": [
        {
          "data": {
            "text/plain": [
              "array([[0.17207862, 0.20716259, 0.08312284, ..., 0.58155436, 0.50223506,\n",
              "        0.        ],\n",
              "       [0.04796746, 0.        , 0.        , ..., 1.17118689, 0.90378338,\n",
              "        1.97967341],\n",
              "       [1.79309265, 0.        , 0.52665597, ..., 0.        , 0.        ,\n",
              "        0.        ],\n",
              "       ...,\n",
              "       [0.        , 0.        , 0.        , ..., 0.        , 0.        ,\n",
              "        0.        ],\n",
              "       [0.        , 0.        , 0.        , ..., 0.        , 0.        ,\n",
              "        0.29559844],\n",
              "       [0.        , 0.43673485, 0.        , ..., 0.        , 2.14142875,\n",
              "        0.        ]])"
            ]
          },
          "execution_count": 10,
          "metadata": {},
          "output_type": "execute_result"
        }
      ],
      "source": [
        "test_hidden_layer = np.random.normal(loc=0, scale=1, size=[256, 256])\n",
        "activation(test_hidden_layer)"
      ]
    },
    {
      "cell_type": "markdown",
      "metadata": {
        "id": "3Lyam5O3s9xl"
      },
      "source": [
        "## Task 1.4\n",
        "Implement the skip (residual) connections."
      ]
    },
    {
      "cell_type": "code",
      "execution_count": 11,
      "metadata": {
        "id": "JeaLA_N5s9xn"
      },
      "outputs": [],
      "source": [
        "#Implement the skip (residual) connections.\n",
        "def skip_connections(hidden_layer, input_layer):\n",
        "    \"\"\"Skip connection \n",
        "\n",
        "    :param hidden_layer: _description_\n",
        "    :type hidden_layer: _type_\n",
        "    :param input_layer: _description_\n",
        "    :type input_layer: _type_\n",
        "    \"\"\"\n",
        "    return hidden_layer + input_layer"
      ]
    },
    {
      "cell_type": "markdown",
      "metadata": {
        "id": "c8cryIa1s9xn"
      },
      "source": [
        "## Task 1.5\n",
        "Implement layer normalization."
      ]
    },
    {
      "cell_type": "code",
      "execution_count": 12,
      "metadata": {
        "id": "gyYe-KH3s9xo"
      },
      "outputs": [],
      "source": [
        "# Implement layer normalization.\n",
        "def normalisation_layer(hidden_layer, mean, variance):\n",
        "    \"\"\"_summary_\n",
        "\n",
        "    :param hidden_layer: _description_\n",
        "    :type hidden_layer: _type_\n",
        "    :param mean: _description_\n",
        "    :type mean: _type_\n",
        "    :param variance: _description_\n",
        "    :type variance: _type_\n",
        "    \"\"\"\n",
        "    # Implement the layer normalization\n",
        "    mean = np.mean(hidden_layer, axis=1, keepdims=True)\n",
        "    variance = np.var(hidden_layer, axis=1, keepdims=True)\n",
        "    return (hidden_layer - mean) / np.sqrt(variance + 1e-8)"
      ]
    },
    {
      "cell_type": "markdown",
      "metadata": {
        "id": "eKIJqC2us9xp"
      },
      "source": [
        "## Task 1.6\n",
        "Implement dropout."
      ]
    },
    {
      "cell_type": "code",
      "execution_count": 13,
      "metadata": {
        "id": "RUhGgH_qs9xq"
      },
      "outputs": [],
      "source": [
        "# Implement dropout\n",
        "def dropout(hidden_layer, dropout_rate):\n",
        "    \"\"\"_summary_\n",
        "\n",
        "    :param hidden_layer: _description_\n",
        "    :type hidden_layer: _type_\n",
        "    :param dropout_rate: _description_\n",
        "    :type dropout_rate: _type_\n",
        "    \"\"\"\n",
        "    # Implement the dropout\n",
        "    return hidden_layer * np.random.binomial(1, 1 - dropout_rate, size=hidden_layer.shape)\n"
      ]
    },
    {
      "cell_type": "markdown",
      "metadata": {
        "id": "wtCKnQJys9xy"
      },
      "source": [
        "## Task 1.7\n",
        "Implement the attention mechanism."
      ]
    },
    {
      "cell_type": "code",
      "execution_count": 14,
      "metadata": {
        "id": "nweispoRs9xz"
      },
      "outputs": [],
      "source": [
        "# Implement the attention mechanism.\n",
        "# softmax function from numpy.\n",
        "def softmax(input_matrix):\n",
        "    \"\"\"_summary_\n",
        "\n",
        "    :param hidden_layer: _description_\n",
        "    :type hidden_layer: _type_\n",
        "    \"\"\"\n",
        "    # Implement the softmax function\n",
        "    return np.exp(input_matrix) / np.sum(np.exp(input_matrix), axis=1, keepdims=True)\n",
        " \n",
        "def attention(Q, K, V, dimension_k):\n",
        "    \"\"\"_summary_\n",
        "\n",
        "    :param Q: _description_\n",
        "    :type Q: _type_\n",
        "    :param K: _description_\n",
        "    :type K: _type_\n",
        "    :param V: _description_\n",
        "    :type V: _type_\n",
        "    \"\"\"\n",
        "    # Implement the attention mechanism\n",
        "    return np.matmul(softmax(np.matmul(Q, K.T) / np.sqrt(dimension_k)), V)\n",
        "    \n"
      ]
    },
    {
      "cell_type": "markdown",
      "metadata": {
        "id": "yApJ-i6Ws9x0"
      },
      "source": [
        "## Task 1.8\n",
        "Implement the positonal feed-forward network."
      ]
    },
    {
      "cell_type": "code",
      "execution_count": null,
      "metadata": {
        "id": "PgOD1435s9x1"
      },
      "outputs": [],
      "source": []
    },
    {
      "cell_type": "markdown",
      "metadata": {
        "id": "OhyAVEIas9x1"
      },
      "source": [
        "## Task 1.9\n",
        "Implement the encoder attention."
      ]
    },
    {
      "cell_type": "code",
      "execution_count": null,
      "metadata": {
        "id": "KhVWrtbls9x1"
      },
      "outputs": [],
      "source": []
    },
    {
      "cell_type": "markdown",
      "metadata": {
        "id": "J4lA-qajs9x2"
      },
      "source": [
        "## Task 1.10\n",
        "Implement the encoder."
      ]
    },
    {
      "cell_type": "code",
      "execution_count": null,
      "metadata": {
        "id": "XnDRK_aPs9x2"
      },
      "outputs": [],
      "source": []
    },
    {
      "cell_type": "markdown",
      "metadata": {
        "id": "RzqspeJ4s9x2"
      },
      "source": [
        "## Task 1.11\n",
        "Implement the decoder attention."
      ]
    },
    {
      "cell_type": "code",
      "execution_count": null,
      "metadata": {
        "id": "YEgfyNvNs9x3"
      },
      "outputs": [],
      "source": []
    },
    {
      "cell_type": "markdown",
      "metadata": {
        "id": "1lOPMNIps9x3"
      },
      "source": [
        "## Task 1.12\n",
        "Implement the encoder-decoder attention."
      ]
    },
    {
      "cell_type": "code",
      "execution_count": null,
      "metadata": {
        "id": "lLQ8aRPTs9x3"
      },
      "outputs": [],
      "source": []
    },
    {
      "cell_type": "markdown",
      "metadata": {
        "id": "GZW9JEaUs9x4"
      },
      "source": [
        "## Task 1.13\n",
        "Implement the decoder."
      ]
    },
    {
      "cell_type": "code",
      "execution_count": null,
      "metadata": {
        "id": "3bQZWQrns9x4"
      },
      "outputs": [],
      "source": []
    },
    {
      "cell_type": "markdown",
      "metadata": {
        "id": "MtPOUkLRs9x4"
      },
      "source": [
        "## Task 1.14\n",
        "Implement the transformer architecture (e.g. by creating a Transformer class that includes the steps before)."
      ]
    },
    {
      "cell_type": "code",
      "execution_count": 15,
      "metadata": {
        "id": "VEtaTIR_s9x5"
      },
      "outputs": [
        {
          "ename": "SyntaxError",
          "evalue": "incomplete input (1776112302.py, line 2)",
          "output_type": "error",
          "traceback": [
            "\u001b[0;36m  Cell \u001b[0;32mIn[15], line 2\u001b[0;36m\u001b[0m\n\u001b[0;31m    \u001b[0m\n\u001b[0m    ^\u001b[0m\n\u001b[0;31mSyntaxError\u001b[0m\u001b[0;31m:\u001b[0m incomplete input\n"
          ]
        }
      ],
      "source": [
        "class Transformer():\n",
        "    "
      ]
    },
    {
      "cell_type": "markdown",
      "metadata": {
        "id": "ARMrtlX-s9x5"
      },
      "source": [
        "## Task 1.15\n",
        "Test the forward pass using the follow array."
      ]
    },
    {
      "cell_type": "code",
      "execution_count": null,
      "metadata": {
        "id": "XVwUBmyqs9x6"
      },
      "outputs": [],
      "source": [
        "forward_pass_array = np.array([101, 400, 500, 600, 107, 102])\n",
        "Transformer(forward_pass_array)"
      ]
    },
    {
      "cell_type": "markdown",
      "metadata": {
        "id": "cbVQhmTVs9x6"
      },
      "source": [
        "# Task 2"
      ]
    },
    {
      "cell_type": "markdown",
      "metadata": {
        "id": "5a8mqbvis9x7"
      },
      "source": [
        "In the following, we want to use pretrained models. From here on, you are allowed to use any machine learning frame work of your choice. Moreover, you will use [Hugging Face](https://huggingface.co/) which is compatible with tensorflow, keras, torch and other machine learning frameworks.\n",
        "\n",
        "We want to fine-tune a pretrained model to determine whether Yelp reviews are positive or negative. The data set is available for [Tensorflow](https://www.tensorflow.org/datasets/catalog/yelp_polarity_reviews) and [(py)torch](https://pytorch.org/text/stable/datasets.html#yelpreviewpolarity). Given the text of a review, we want to determine whether the yelp review is positive and negative. The data set is pre-split into training and test set. Please use the training data to fine-tune your model, while using the test data to evaluate your models performance. This exercise does not necessarily end in having a SOTA model, the goal is for you to use and fine-tune SOTA pretrained large language models.\n",
        "\n",
        "Problem Setting:\n",
        "\n",
        "The label $y$ to a Yelp review $T$ is either positive or negative. Given a Yelp Review $T$ and a polarity feedback $y$ determine whether the Review $T$ is positive or negative. The training set $\\mathcal{D} = \\{(T_1, y_1), \\ldots, (T_N, y_N)\\}$, where $T_i$ is review $i$ and $y_i$ is $T_i$'s polarity feedback. A suitable evaluation metric for this type of problem is $\\rightarrow$ see Theory Question 1.\n",
        "\n",
        "In the following, please solve all subtasks."
      ]
    },
    {
      "cell_type": "markdown",
      "metadata": {
        "id": "DeeKpVG6s9x7"
      },
      "source": [
        "## Theory Question 1\n",
        "Which metric is threshold independent to evaluate the problem setting described in Task 2. Please list pros and cons of three different metrics that might be suitable, define an evaluation protocol and decide which evaluation suits this problem best."
      ]
    },
    {
      "cell_type": "code",
      "execution_count": null,
      "metadata": {
        "id": "dXMOXCwCs9x8"
      },
      "outputs": [],
      "source": []
    },
    {
      "cell_type": "markdown",
      "metadata": {
        "id": "MDmbdj-Ds9x8"
      },
      "source": [
        "## Task 2.0\n",
        "Load the Yelp Review Polarity dataset."
      ]
    },
    {
      "cell_type": "code",
      "execution_count": null,
      "metadata": {
        "id": "3-cPKGuus9x9"
      },
      "outputs": [],
      "source": []
    },
    {
      "cell_type": "markdown",
      "metadata": {
        "id": "PlRochOKs9x9"
      },
      "source": [
        "## Task 2.1\n",
        "Decide on a suitable language model from the HuggingFace model zoo (a library providing pretrained models)."
      ]
    },
    {
      "cell_type": "code",
      "execution_count": null,
      "metadata": {
        "id": "Nap1PL1es9x9"
      },
      "outputs": [],
      "source": []
    },
    {
      "cell_type": "markdown",
      "metadata": {
        "id": "0h0rgHM9s9x-"
      },
      "source": [
        "## Task 2.2\n",
        "\n",
        "For the model to process the intended way, we need the tokenizer that was used during training. Luckily Hugging Face  provides both pretrained models and tokenizer. After in Task 2.1 decided for a language model, please load the corresponding tokenizer."
      ]
    },
    {
      "cell_type": "code",
      "execution_count": null,
      "metadata": {
        "id": "klRNm499s9x-"
      },
      "outputs": [],
      "source": []
    },
    {
      "cell_type": "markdown",
      "metadata": {
        "id": "tmZwxqrDs9x_"
      },
      "source": [
        "## Task 2.3\n",
        "Load the language model from HuggingFace."
      ]
    },
    {
      "cell_type": "code",
      "execution_count": null,
      "metadata": {
        "id": "Dfk7kebFs9x_"
      },
      "outputs": [],
      "source": []
    },
    {
      "cell_type": "markdown",
      "metadata": {
        "id": "FRcPP6sPs9x_"
      },
      "source": [
        "## Task 2.4\n",
        "Fine-tune your model on the Yelp Review Polarity training data set. Note: If you have computational limitations consider fine-tuning only on part of the training dataset. "
      ]
    },
    {
      "cell_type": "code",
      "execution_count": null,
      "metadata": {
        "id": "13Nx72o_s9yA"
      },
      "outputs": [],
      "source": []
    },
    {
      "cell_type": "markdown",
      "metadata": {
        "id": "8xaGqCcEs9yB"
      },
      "source": [
        "## Task 2.5\n",
        "Evaluate your model, following the evaluation protocol you defined in Theory Question 1, on the test part of the Yelp Review Polarity data set."
      ]
    },
    {
      "cell_type": "code",
      "execution_count": null,
      "metadata": {
        "id": "pdqnnJaGs9yC"
      },
      "outputs": [],
      "source": []
    },
    {
      "cell_type": "markdown",
      "metadata": {
        "id": "yEibR93Hs9yC"
      },
      "source": [
        "# Task 3\n",
        "Visualize and interpret the attention weights of one correctly and one of the incorrectly classified examples of the Yelp Review Polarity test data using [BertViz](https://github.com/jessevig/bertviz)'s model_view."
      ]
    },
    {
      "cell_type": "code",
      "execution_count": null,
      "metadata": {
        "id": "J1YPLr3cs9yC"
      },
      "outputs": [],
      "source": []
    },
    {
      "cell_type": "markdown",
      "metadata": {
        "id": "bm05PFcMs9yD"
      },
      "source": [
        "## Theory Question 2\n",
        "In your own words, describe how the attention mechanism in a transformer works in the case of self-attention and cross-attention, identifying in each case the keys, queries, and values. Give two examples of alignment models and describe how they affect the output using a simple example. This part of the written report can be done in collaboration with your group."
      ]
    },
    {
      "cell_type": "code",
      "execution_count": null,
      "metadata": {
        "id": "nDj5j60Rs9yD"
      },
      "outputs": [],
      "source": []
    },
    {
      "cell_type": "markdown",
      "metadata": {
        "id": "1u-8cqs0s9yD"
      },
      "source": [
        "# Task 4\n",
        "Please describe your team's implementation of this project, including your personal contribution, in 1000-1500 characters. Each team member must explain the main aspects of the team's implementation, and may not discuss this summary with other students. You are allowed to use figures and tables to clarify. This summary constitutes a separately and individually graded piece of work."
      ]
    },
    {
      "cell_type": "code",
      "execution_count": null,
      "metadata": {
        "id": "U7FJBhNPs9yE"
      },
      "outputs": [],
      "source": []
    }
  ],
  "metadata": {
    "colab": {
      "provenance": []
    },
    "kernelspec": {
      "display_name": "base",
      "language": "python",
      "name": "python3"
    },
    "language_info": {
      "codemirror_mode": {
        "name": "ipython",
        "version": 3
      },
      "file_extension": ".py",
      "mimetype": "text/x-python",
      "name": "python",
      "nbconvert_exporter": "python",
      "pygments_lexer": "ipython3",
      "version": "3.10.9"
    },
    "vscode": {
      "interpreter": {
        "hash": "f94a2e1669021a1b826617800504e937bcc4e1c8d0dde6e9bfebb8455f6fae62"
      }
    }
  },
  "nbformat": 4,
  "nbformat_minor": 0
}
