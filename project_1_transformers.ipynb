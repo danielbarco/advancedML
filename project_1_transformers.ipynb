{
 "cells": [
  {
   "cell_type": "markdown",
   "metadata": {
    "id": "_eSNCOQgs9xZ"
   },
   "source": [
    "<h1><center>\n",
    "    Implementing, fine-tuning and visualizing transformer architectures. <br/>\n",
    "  \n",
    "    \n",
    "    Project 1\n",
    "</center></h1>"
   ]
  },
  {
   "cell_type": "markdown",
   "metadata": {
    "id": "BgsVYaLIs9xc"
   },
   "source": [
    "# Task 1\n",
    "Implement the feed-forward pass of the original transformer network using only numpy, i.e. without machine learning frameworks.\n",
    "\n",
    "Note: All subtasks are voluntary and rather a guide-line of how we would implement the forward pass. You can also choose a different order for implementing the different parts or implement everything in one class/function. The forward pass should return an numpy array.\n",
    "\n",
    "Please initialize the weights using Glorot initialization."
   ]
  },
  {
   "cell_type": "code",
   "execution_count": 1,
   "metadata": {
    "id": "Ze8oZK4Ss9xe"
   },
   "outputs": [],
   "source": [
    "# You will test your implementation on a single array:\n",
    "import numpy as np\n",
    "forward_pass_array = np.array([101, 400, 500, 600, 107, 102])"
   ]
  },
  {
   "cell_type": "markdown",
   "metadata": {
    "id": "GHgV0NL0s9xg"
   },
   "source": [
    "## Task 1.1\n",
    "Implement the sinus/cosinus positional encoding used in the original paper [Attention Is All You Need](https://arxiv.org/abs/1706.03762). Implement the token embedding."
   ]
  },
  {
   "cell_type": "code",
   "execution_count": 2,
   "metadata": {
    "id": "9XQOngbhs9xh"
   },
   "outputs": [
    {
     "data": {
      "text/plain": [
       "array([[ 0.00000000e+00,  1.00000000e+00,  0.00000000e+00, ...,\n",
       "         1.00000000e+00,  0.00000000e+00,  1.00000000e+00],\n",
       "       [ 8.41470985e-01,  5.40302306e-01,  8.21856190e-01, ...,\n",
       "         9.99999994e-01,  1.03663293e-04,  9.99999995e-01],\n",
       "       [ 9.09297427e-01, -4.16146837e-01,  9.36414739e-01, ...,\n",
       "         9.99999977e-01,  2.07326584e-04,  9.99999979e-01],\n",
       "       ...,\n",
       "       [ 6.19504237e-02,  9.98079228e-01,  7.98205653e-01, ...,\n",
       "         9.98504463e-01,  5.27401358e-02,  9.98608271e-01],\n",
       "       [ 8.73326668e-01,  4.87135024e-01,  9.49807649e-01, ...,\n",
       "         9.98498582e-01,  5.28436545e-02,  9.98602798e-01],\n",
       "       [ 8.81770401e-01, -4.71678874e-01,  2.83995701e-01, ...,\n",
       "         9.98492690e-01,  5.29471727e-02,  9.98597315e-01]])"
      ]
     },
     "execution_count": 2,
     "metadata": {},
     "output_type": "execute_result"
    }
   ],
   "source": [
    "def positional_encoding(pos:int, i:int, d_model:int):\n",
    "    \"\"\"\n",
    "    pos is the position, i is the dimension and d_model is the model dimension\n",
    "    we use sine and cosine functions of different frequencies\n",
    "\n",
    "    :param pos: _description_\n",
    "    :type pos: int\n",
    "    :param i: _description_\n",
    "    :type i: int\n",
    "    :param d_model: _description_\n",
    "    :type d_model: int\n",
    "    \"\"\"\n",
    "    if i % 2 == 0:\n",
    "        return np.sin(pos / (10000 ** (i / d_model)))\n",
    "    else:\n",
    "        return np.cos(pos / (10000 ** ((i - 1) / d_model)))\n",
    "\n",
    "# Now we can create the positional encoding matrix\n",
    "positional_encoding_matrix = np.array([[positional_encoding(pos, i, 512) for i in range(512)] for pos in range(512)])\n",
    "positional_encoding_matrix\n"
   ]
  },
  {
   "cell_type": "markdown",
   "metadata": {
    "id": "Axt_BqrJs9xh"
   },
   "source": [
    "## Task 1.2\n",
    "Implement a dense layer with the number of hidden units as an argument."
   ]
  },
  {
   "cell_type": "code",
   "execution_count": 3,
   "metadata": {
    "id": "ja_Nzhkss9xi"
   },
   "outputs": [],
   "source": [
    "def dense_layer(input_shape, output_shape, n_hidden_units):\n",
    "    \"\"\"\n",
    "    This function initialises a numpy dense layer given the number of hidden units using Glorot initialization and returns the weights and biases\n",
    "\n",
    "    :param input_shape: shape of the input\n",
    "    :type input_shape: int\n",
    "    :param output_shape: shape of the output\n",
    "    :type output_shape: int\n",
    "    :param n_hidden_units: number of hidden units\n",
    "    :type n_hidden_units: int\n",
    "    \"\"\"\n",
    "    # We use Glorot initialization\n",
    "    weights = np.random.normal(loc= 0.0, scale= np.sqrt(2/ (input_shape + output_shape)), size=(n_hidden_units, n_hidden_units))\n",
    "    \n",
    "    # numpy dense layer\n",
    "    for i in range(n_hidden_units):\n",
    "        for j in range(n_hidden_units):\n",
    "            weights[i][j] = np.random.normal(loc= 0.0, scale= np.sqrt(2/ (input_shape + output_shape)))\n",
    "    \n"
   ]
  },
  {
   "cell_type": "markdown",
   "metadata": {
    "id": "UsSfCiNKs9xj"
   },
   "source": [
    "## Task 1.3\n",
    "Implement all activation function such that they are compatible with the dense layer."
   ]
  },
  {
   "cell_type": "code",
   "execution_count": 4,
   "metadata": {
    "id": "tg6qEQPws9xk"
   },
   "outputs": [],
   "source": [
    "# Implement all activation function such that they are compatible with the dense layer.\n",
    "def activation(hidden_layer):\n",
    "    \"\"\"_summary_\n",
    "\n",
    "    :param hidden_layer: _description_\n",
    "    :type hidden_layer: _type_\n",
    "    :param activation: _description_\n",
    "    :type activation: _type_\n",
    "    \"\"\"\n",
    "    # Implement the relu activation function\n",
    "    return np.maximum(0, hidden_layer)"
   ]
  },
  {
   "cell_type": "markdown",
   "metadata": {
    "id": "3Lyam5O3s9xl"
   },
   "source": [
    "## Task 1.4\n",
    "Implement the skip (residual) connections."
   ]
  },
  {
   "cell_type": "code",
   "execution_count": 5,
   "metadata": {
    "id": "JeaLA_N5s9xn"
   },
   "outputs": [],
   "source": [
    "#Implement the skip (residual) connections.\n",
    "def skip_connections(hidden_layer, input_layer):\n",
    "    \"\"\"_summary_\n",
    "\n",
    "    :param hidden_layer: _description_\n",
    "    :type hidden_layer: _type_\n",
    "    :param input_layer: _description_\n",
    "    :type input_layer: _type_\n",
    "    \"\"\"\n",
    "    return hidden_layer + input_layer"
   ]
  },
  {
   "cell_type": "markdown",
   "metadata": {
    "id": "c8cryIa1s9xn"
   },
   "source": [
    "## Task 1.5\n",
    "Implement layer normalization."
   ]
  },
  {
   "cell_type": "code",
   "execution_count": 6,
   "metadata": {
    "id": "gyYe-KH3s9xo"
   },
   "outputs": [],
   "source": [
    "# Implement layer normalization.\n",
    "def normalisation_layer(hidden_layer, mean, variance):\n",
    "    \"\"\"_summary_\n",
    "\n",
    "    :param hidden_layer: _description_\n",
    "    :type hidden_layer: _type_\n",
    "    :param mean: _description_\n",
    "    :type mean: _type_\n",
    "    :param variance: _description_\n",
    "    :type variance: _type_\n",
    "    \"\"\"\n",
    "    # Implement the layer normalization\n",
    "    mean = np.mean(hidden_layer, axis=1, keepdims=True)\n",
    "    variance = np.var(hidden_layer, axis=1, keepdims=True)\n",
    "    return (hidden_layer - mean) / np.sqrt(variance + 1e-8)"
   ]
  },
  {
   "cell_type": "markdown",
   "metadata": {
    "id": "eKIJqC2us9xp"
   },
   "source": [
    "## Task 1.6\n",
    "Implement dropout."
   ]
  },
  {
   "cell_type": "code",
   "execution_count": null,
   "metadata": {
    "id": "RUhGgH_qs9xq"
   },
   "outputs": [],
   "source": [
    "# Implement dropout\n",
    "def dropout(hidden_layer, dropout_rate):\n",
    "    \"\"\"_summary_\n",
    "\n",
    "    :param hidden_layer: _description_\n",
    "    :type hidden_layer: _type_\n",
    "    :param dropout_rate: _description_\n",
    "    :type dropout_rate: _type_\n",
    "    \"\"\"\n",
    "    # Implement the dropout\n",
    "    return hidden_layer * np.random.binomial(1, 1 - dropout_rate, size=hidden_layer.shape)\n"
   ]
  },
  {
   "cell_type": "markdown",
   "metadata": {
    "id": "wtCKnQJys9xy"
   },
   "source": [
    "## Task 1.7\n",
    "Implement the attention mechanism."
   ]
  },
  {
   "cell_type": "code",
   "execution_count": null,
   "metadata": {
    "id": "nweispoRs9xz"
   },
   "outputs": [],
   "source": [
    "# Implement the attention mechanism.\n",
    "# softmax function from numpy.\n",
    "def softmax(input_matrix):\n",
    "    \"\"\"_summary_\n",
    "\n",
    "    :param hidden_layer: _description_\n",
    "    :type hidden_layer: _type_\n",
    "    \"\"\"\n",
    "    # Implement the softmax function\n",
    "    return np.exp(input_matrix) / np.sum(np.exp(input_matrix), axis=1, keepdims=True)\n",
    " \n",
    "def attention(Q, K, V, dimension_k):\n",
    "    \"\"\"_summary_\n",
    "\n",
    "    :param Q: _description_\n",
    "    :type Q: _type_\n",
    "    :param K: _description_\n",
    "    :type K: _type_\n",
    "    :param V: _description_\n",
    "    :type V: _type_\n",
    "    \"\"\"\n",
    "    # Implement the attention mechanism\n",
    "    return np.matmul(softmax(np.matmul(Q, K.T) / np.sqrt(dimension_k)), V)\n",
    "    \n"
   ]
  },
  {
   "cell_type": "markdown",
   "metadata": {
    "id": "yApJ-i6Ws9x0"
   },
   "source": [
    "## Task 1.8\n",
    "Implement the positonal feed-forward network."
   ]
  },
  {
   "cell_type": "code",
   "execution_count": null,
   "metadata": {
    "id": "PgOD1435s9x1"
   },
   "outputs": [],
   "source": []
  },
  {
   "cell_type": "markdown",
   "metadata": {
    "id": "OhyAVEIas9x1"
   },
   "source": [
    "## Task 1.9\n",
    "Implement the encoder attention."
   ]
  },
  {
   "cell_type": "code",
   "execution_count": null,
   "metadata": {
    "id": "KhVWrtbls9x1"
   },
   "outputs": [],
   "source": []
  },
  {
   "cell_type": "markdown",
   "metadata": {
    "id": "J4lA-qajs9x2"
   },
   "source": [
    "## Task 1.10\n",
    "Implement the encoder."
   ]
  },
  {
   "cell_type": "code",
   "execution_count": null,
   "metadata": {
    "id": "XnDRK_aPs9x2"
   },
   "outputs": [],
   "source": []
  },
  {
   "cell_type": "markdown",
   "metadata": {
    "id": "RzqspeJ4s9x2"
   },
   "source": [
    "## Task 1.11\n",
    "Implement the decoder attention."
   ]
  },
  {
   "cell_type": "code",
   "execution_count": null,
   "metadata": {
    "id": "YEgfyNvNs9x3"
   },
   "outputs": [],
   "source": []
  },
  {
   "cell_type": "markdown",
   "metadata": {
    "id": "1lOPMNIps9x3"
   },
   "source": [
    "## Task 1.12\n",
    "Implement the encoder-decoder attention."
   ]
  },
  {
   "cell_type": "code",
   "execution_count": null,
   "metadata": {
    "id": "lLQ8aRPTs9x3"
   },
   "outputs": [],
   "source": []
  },
  {
   "cell_type": "markdown",
   "metadata": {
    "id": "GZW9JEaUs9x4"
   },
   "source": [
    "## Task 1.13\n",
    "Implement the decoder."
   ]
  },
  {
   "cell_type": "code",
   "execution_count": null,
   "metadata": {
    "id": "3bQZWQrns9x4"
   },
   "outputs": [],
   "source": []
  },
  {
   "cell_type": "markdown",
   "metadata": {
    "id": "MtPOUkLRs9x4"
   },
   "source": [
    "## Task 1.14\n",
    "Implement the transformer architecture (e.g. by creating a Transformer class that includes the steps before)."
   ]
  },
  {
   "cell_type": "code",
   "execution_count": 7,
   "metadata": {
    "id": "VEtaTIR_s9x5"
   },
   "outputs": [
    {
     "ename": "SyntaxError",
     "evalue": "incomplete input (1776112302.py, line 2)",
     "output_type": "error",
     "traceback": [
      "\u001B[0;36m  Cell \u001B[0;32mIn[7], line 2\u001B[0;36m\u001B[0m\n\u001B[0;31m    \u001B[0m\n\u001B[0m    ^\u001B[0m\n\u001B[0;31mSyntaxError\u001B[0m\u001B[0;31m:\u001B[0m incomplete input\n"
     ]
    }
   ],
   "source": [
    "class Transformer():\n",
    "    "
   ]
  },
  {
   "cell_type": "markdown",
   "metadata": {
    "id": "ARMrtlX-s9x5"
   },
   "source": [
    "## Task 1.15\n",
    "Test the forward pass using the follow array."
   ]
  },
  {
   "cell_type": "code",
   "execution_count": null,
   "metadata": {
    "id": "XVwUBmyqs9x6"
   },
   "outputs": [],
   "source": [
    "forward_pass_array = np.array([101, 400, 500, 600, 107, 102])\n",
    "Transformer(forward_pass_array)"
   ]
  },
  {
   "cell_type": "markdown",
   "metadata": {
    "id": "cbVQhmTVs9x6"
   },
   "source": [
    "# Task 2"
   ]
  },
  {
   "cell_type": "markdown",
   "metadata": {
    "id": "5a8mqbvis9x7"
   },
   "source": [
    "In the following, we want to use pretrained models. From here on, you are allowed to use any machine learning frame work of your choice. Moreover, you will use [Hugging Face](https://huggingface.co/) which is compatible with tensorflow, keras, torch and other machine learning frameworks.\n",
    "\n",
    "We want to fine-tune a pretrained model to determine whether Yelp reviews are positive or negative. The data set is available for [Tensorflow](https://www.tensorflow.org/datasets/catalog/yelp_polarity_reviews) and [(py)torch](https://pytorch.org/text/stable/datasets.html#yelpreviewpolarity). Given the text of a review, we want to determine whether the yelp review is positive and negative. The data set is pre-split into training and test set. Please use the training data to fine-tune your model, while using the test data to evaluate your models performance. This exercise does not necessarily end in having a SOTA model, the goal is for you to use and fine-tune SOTA pretrained large language models.\n",
    "\n",
    "Problem Setting:\n",
    "\n",
    "The label $y$ to a Yelp review $T$ is either positive or negative. Given a Yelp Review $T$ and a polarity feedback $y$ determine whether the Review $T$ is positive or negative. The training set $\\mathcal{D} = \\{(T_1, y_1), \\ldots, (T_N, y_N)\\}$, where $T_i$ is review $i$ and $y_i$ is $T_i$'s polarity feedback. A suitable evaluation metric for this type of problem is $\\rightarrow$ see Theory Question 1.\n",
    "\n",
    "In the following, please solve all subtasks."
   ]
  },
  {
   "cell_type": "markdown",
   "metadata": {
    "id": "DeeKpVG6s9x7"
   },
   "source": [
    "## Theory Question 1\n",
    "Which metric is threshold independent to evaluate the problem setting described in Task 2. Please list pros and cons of three different metrics that might be suitable, define an evaluation protocol and decide which evaluation suits this problem best."
   ]
  },
  {
   "cell_type": "code",
   "execution_count": null,
   "metadata": {
    "id": "dXMOXCwCs9x8"
   },
   "outputs": [],
   "source": [
    "# F1 score\n",
    "# accuracy\n",
    "# AUC\n",
    "\n"
   ]
  },
  {
   "cell_type": "markdown",
   "metadata": {
    "id": "MDmbdj-Ds9x8"
   },
   "source": [
    "## Task 2.0\n",
    "Load the Yelp Review Polarity dataset."
   ]
  },
  {
   "cell_type": "code",
   "execution_count": 34,
   "metadata": {
    "id": "3-cPKGuus9x9"
   },
   "outputs": [
    {
     "name": "stderr",
     "output_type": "stream",
     "text": [
      "INFO:absl:Load dataset info from /Users/luisknufinke/tensorflow_datasets/yelp_polarity_reviews/0.2.0\n",
      "INFO:absl:Reusing dataset yelp_polarity_reviews (/Users/luisknufinke/tensorflow_datasets/yelp_polarity_reviews/0.2.0)\n",
      "INFO:absl:Constructing tf.data.Dataset yelp_polarity_reviews for split ['train', 'test'], from /Users/luisknufinke/tensorflow_datasets/yelp_polarity_reviews/0.2.0\n"
     ]
    }
   ],
   "source": [
    "import matplotlib.pyplot as plt\n",
    "import numpy as np\n",
    "import tensorflow as tf\n",
    "import tensorflow_datasets as tfds\n",
    "\n",
    "ds = tfds.load('yelp_polarity_reviews', split=['train', 'test'], as_supervised=True)\n",
    "ds_train = ds[0]\n",
    "ds_test = ds[1]"
   ]
  },
  {
   "cell_type": "markdown",
   "metadata": {
    "id": "PlRochOKs9x9"
   },
   "source": [
    "## Task 2.1\n",
    "Decide on a suitable language model from the HuggingFace model zoo (a library providing pretrained models)."
   ]
  },
  {
   "cell_type": "code",
   "execution_count": 5,
   "metadata": {
    "id": "Nap1PL1es9x9"
   },
   "outputs": [],
   "source": [
    "import torch\n",
    "from transformers import DistilBertTokenizer, DistilBertForSequenceClassification\n"
   ]
  },
  {
   "cell_type": "markdown",
   "metadata": {
    "id": "0h0rgHM9s9x-"
   },
   "source": [
    "## Task 2.2\n",
    "\n",
    "For the model to process the intended way, we need the tokenizer that was used during training. Luckily Hugging Face  provides both pretrained models and tokenizer. After in Task 2.1 decided for a language model, please load the corresponding tokenizer."
   ]
  },
  {
   "cell_type": "code",
   "execution_count": 6,
   "metadata": {
    "id": "klRNm499s9x-"
   },
   "outputs": [
    {
     "data": {
      "text/plain": "Downloading:   0%|          | 0.00/226k [00:00<?, ?B/s]",
      "application/vnd.jupyter.widget-view+json": {
       "version_major": 2,
       "version_minor": 0,
       "model_id": "993513cb2a3f4773afb272984385374c"
      },
      "application/json": {
       "n": 0,
       "total": 231508,
       "elapsed": 0.03487992286682129,
       "ncols": null,
       "nrows": null,
       "prefix": "Downloading",
       "ascii": false,
       "unit": "B",
       "unit_scale": true,
       "rate": null,
       "bar_format": null,
       "postfix": null,
       "unit_divisor": 1024,
       "initial": 0,
       "colour": null
      }
     },
     "metadata": {},
     "output_type": "display_data"
    },
    {
     "data": {
      "text/plain": "Downloading:   0%|          | 0.00/28.0 [00:00<?, ?B/s]",
      "application/vnd.jupyter.widget-view+json": {
       "version_major": 2,
       "version_minor": 0,
       "model_id": "40e677952a844dfabd0bd8433d7fcc1f"
      },
      "application/json": {
       "n": 0,
       "total": 28,
       "elapsed": 0.0686037540435791,
       "ncols": null,
       "nrows": null,
       "prefix": "Downloading",
       "ascii": false,
       "unit": "B",
       "unit_scale": true,
       "rate": null,
       "bar_format": null,
       "postfix": null,
       "unit_divisor": 1024,
       "initial": 0,
       "colour": null
      }
     },
     "metadata": {},
     "output_type": "display_data"
    },
    {
     "data": {
      "text/plain": "Downloading:   0%|          | 0.00/455k [00:00<?, ?B/s]",
      "application/vnd.jupyter.widget-view+json": {
       "version_major": 2,
       "version_minor": 0,
       "model_id": "b36314de99a34ed595665fab76ea9c1d"
      },
      "application/json": {
       "n": 0,
       "total": 466062,
       "elapsed": 0.03308415412902832,
       "ncols": null,
       "nrows": null,
       "prefix": "Downloading",
       "ascii": false,
       "unit": "B",
       "unit_scale": true,
       "rate": null,
       "bar_format": null,
       "postfix": null,
       "unit_divisor": 1024,
       "initial": 0,
       "colour": null
      }
     },
     "metadata": {},
     "output_type": "display_data"
    },
    {
     "data": {
      "text/plain": "Downloading:   0%|          | 0.00/483 [00:00<?, ?B/s]",
      "application/vnd.jupyter.widget-view+json": {
       "version_major": 2,
       "version_minor": 0,
       "model_id": "4eb29bb3a1d24e84a3f8c05e65383cb4"
      },
      "application/json": {
       "n": 0,
       "total": 483,
       "elapsed": 0.039884090423583984,
       "ncols": null,
       "nrows": null,
       "prefix": "Downloading",
       "ascii": false,
       "unit": "B",
       "unit_scale": true,
       "rate": null,
       "bar_format": null,
       "postfix": null,
       "unit_divisor": 1024,
       "initial": 0,
       "colour": null
      }
     },
     "metadata": {},
     "output_type": "display_data"
    }
   ],
   "source": [
    "tokenizer = DistilBertTokenizer.from_pretrained(\"distilbert-base-uncased\")\n"
   ]
  },
  {
   "cell_type": "markdown",
   "metadata": {
    "id": "tmZwxqrDs9x_"
   },
   "source": [
    "## Task 2.3\n",
    "Load the language model from HuggingFace."
   ]
  },
  {
   "cell_type": "code",
   "execution_count": 7,
   "metadata": {
    "id": "Dfk7kebFs9x_"
   },
   "outputs": [
    {
     "data": {
      "text/plain": "Downloading:   0%|          | 0.00/256M [00:00<?, ?B/s]",
      "application/vnd.jupyter.widget-view+json": {
       "version_major": 2,
       "version_minor": 0,
       "model_id": "89eaaddb4e6e4aa4a04861a8c2a1b55f"
      },
      "application/json": {
       "n": 0,
       "total": 267967963,
       "elapsed": 0.04669308662414551,
       "ncols": null,
       "nrows": null,
       "prefix": "Downloading",
       "ascii": false,
       "unit": "B",
       "unit_scale": true,
       "rate": null,
       "bar_format": null,
       "postfix": null,
       "unit_divisor": 1024,
       "initial": 0,
       "colour": null
      }
     },
     "metadata": {},
     "output_type": "display_data"
    },
    {
     "name": "stderr",
     "output_type": "stream",
     "text": [
      "Some weights of the model checkpoint at distilbert-base-uncased were not used when initializing DistilBertForSequenceClassification: ['vocab_layer_norm.weight', 'vocab_layer_norm.bias', 'vocab_transform.bias', 'vocab_projector.bias', 'vocab_projector.weight', 'vocab_transform.weight']\n",
      "- This IS expected if you are initializing DistilBertForSequenceClassification from the checkpoint of a model trained on another task or with another architecture (e.g. initializing a BertForSequenceClassification model from a BertForPreTraining model).\n",
      "- This IS NOT expected if you are initializing DistilBertForSequenceClassification from the checkpoint of a model that you expect to be exactly identical (initializing a BertForSequenceClassification model from a BertForSequenceClassification model).\n",
      "Some weights of DistilBertForSequenceClassification were not initialized from the model checkpoint at distilbert-base-uncased and are newly initialized: ['pre_classifier.bias', 'classifier.bias', 'classifier.weight', 'pre_classifier.weight']\n",
      "You should probably TRAIN this model on a down-stream task to be able to use it for predictions and inference.\n"
     ]
    }
   ],
   "source": [
    "model = DistilBertForSequenceClassification.from_pretrained(\"distilbert-base-uncased\")\n"
   ]
  },
  {
   "cell_type": "markdown",
   "metadata": {
    "id": "FRcPP6sPs9x_"
   },
   "source": [
    "## Task 2.4\n",
    "Fine-tune your model on the Yelp Review Polarity training data set. Note: If you have computational limitations consider fine-tuning only on part of the training dataset. "
   ]
  },
  {
   "cell_type": "code",
   "execution_count": 40,
   "metadata": {
    "id": "13Nx72o_s9yA"
   },
   "outputs": [
    {
     "name": "stdout",
     "output_type": "stream",
     "text": [
      "Wrong type:  <class 'bytes'>\n",
      "Wrong type:  <class 'bytes'>\n",
      "Wrong type:  <class 'bytes'>\n",
      "Wrong type:  <class 'bytes'>\n",
      "Wrong type:  <class 'bytes'>\n",
      "Wrong type:  <class 'bytes'>\n",
      "Wrong type:  <class 'bytes'>\n",
      "Wrong type:  <class 'bytes'>\n",
      "Wrong type:  <class 'bytes'>\n",
      "Wrong type:  <class 'bytes'>\n",
      "Wrong type:  <class 'bytes'>\n",
      "Wrong type:  <class 'bytes'>\n",
      "Wrong type:  <class 'bytes'>\n",
      "Wrong type:  <class 'bytes'>\n",
      "Wrong type:  <class 'bytes'>\n",
      "Wrong type:  <class 'bytes'>\n",
      "Wrong type:  <class 'bytes'>\n",
      "Wrong type:  <class 'bytes'>\n",
      "Wrong type:  <class 'bytes'>\n",
      "Wrong type:  <class 'bytes'>\n",
      "Wrong type:  <class 'bytes'>\n",
      "Wrong type:  <class 'bytes'>\n",
      "Wrong type:  <class 'bytes'>\n",
      "Wrong type:  <class 'bytes'>\n",
      "Wrong type:  <class 'bytes'>\n",
      "Wrong type:  <class 'bytes'>\n",
      "Wrong type:  <class 'bytes'>\n",
      "Wrong type:  <class 'bytes'>\n",
      "Wrong type:  <class 'bytes'>\n",
      "Wrong type:  <class 'bytes'>\n",
      "Wrong type:  <class 'bytes'>\n",
      "Wrong type:  <class 'bytes'>\n",
      "Wrong type:  <class 'bytes'>\n",
      "Wrong type:  <class 'bytes'>\n",
      "Wrong type:  <class 'bytes'>\n",
      "Wrong type:  <class 'bytes'>\n",
      "Wrong type:  <class 'bytes'>\n",
      "Wrong type:  <class 'bytes'>\n",
      "Wrong type:  <class 'bytes'>\n",
      "Wrong type:  <class 'bytes'>\n",
      "Wrong type:  <class 'bytes'>\n",
      "Wrong type:  <class 'bytes'>\n",
      "Wrong type:  <class 'bytes'>\n",
      "Wrong type:  <class 'bytes'>\n",
      "Wrong type:  <class 'bytes'>\n",
      "Wrong type:  <class 'bytes'>\n",
      "Wrong type:  <class 'bytes'>\n",
      "Wrong type:  <class 'bytes'>\n",
      "Wrong type:  <class 'bytes'>\n",
      "Wrong type:  <class 'bytes'>\n",
      "Wrong type:  <class 'bytes'>\n",
      "Wrong type:  <class 'bytes'>\n",
      "Wrong type:  <class 'bytes'>\n",
      "Wrong type:  <class 'bytes'>\n",
      "Wrong type:  <class 'bytes'>\n",
      "Wrong type:  <class 'bytes'>\n",
      "Wrong type:  <class 'bytes'>\n",
      "Wrong type:  <class 'bytes'>\n",
      "Wrong type:  <class 'bytes'>\n",
      "Wrong type:  <class 'bytes'>\n",
      "Wrong type:  <class 'bytes'>\n",
      "Wrong type:  <class 'bytes'>\n",
      "Wrong type:  <class 'bytes'>\n",
      "Wrong type:  <class 'bytes'>\n",
      "Wrong type:  <class 'bytes'>\n",
      "Wrong type:  <class 'bytes'>\n",
      "Wrong type:  <class 'bytes'>\n",
      "Wrong type:  <class 'bytes'>\n",
      "Wrong type:  <class 'bytes'>\n",
      "Wrong type:  <class 'bytes'>\n",
      "Wrong type:  <class 'bytes'>\n",
      "Wrong type:  <class 'bytes'>\n",
      "Wrong type:  <class 'bytes'>\n",
      "Wrong type:  <class 'bytes'>\n",
      "Wrong type:  <class 'bytes'>\n",
      "Wrong type:  <class 'bytes'>\n",
      "Wrong type:  <class 'bytes'>\n",
      "Wrong type:  <class 'bytes'>\n",
      "Wrong type:  <class 'bytes'>\n",
      "Wrong type:  <class 'bytes'>\n",
      "Wrong type:  <class 'bytes'>\n",
      "Wrong type:  <class 'bytes'>\n",
      "Wrong type:  <class 'bytes'>\n",
      "Wrong type:  <class 'bytes'>\n",
      "Wrong type:  <class 'bytes'>\n",
      "Wrong type:  <class 'bytes'>\n",
      "Wrong type:  <class 'bytes'>\n",
      "Wrong type:  <class 'bytes'>\n",
      "Wrong type:  <class 'bytes'>\n",
      "Wrong type:  <class 'bytes'>\n",
      "Wrong type:  <class 'bytes'>\n",
      "Wrong type:  <class 'bytes'>\n",
      "Wrong type:  <class 'bytes'>\n",
      "Wrong type:  <class 'bytes'>\n",
      "Wrong type:  <class 'bytes'>\n",
      "Wrong type:  <class 'bytes'>\n",
      "Wrong type:  <class 'bytes'>\n",
      "Wrong type:  <class 'bytes'>\n",
      "Wrong type:  <class 'bytes'>\n",
      "Wrong type:  <class 'bytes'>\n",
      "Wrong type:  <class 'bytes'>\n",
      "Wrong type:  <class 'bytes'>\n",
      "Wrong type:  <class 'bytes'>\n",
      "Wrong type:  <class 'bytes'>\n",
      "Wrong type:  <class 'bytes'>\n",
      "Wrong type:  <class 'bytes'>\n",
      "Wrong type:  <class 'bytes'>\n",
      "Wrong type:  <class 'bytes'>\n",
      "Wrong type:  <class 'bytes'>\n",
      "Wrong type:  <class 'bytes'>\n",
      "Wrong type:  <class 'bytes'>\n",
      "Wrong type:  <class 'bytes'>\n",
      "Wrong type:  <class 'bytes'>\n",
      "Wrong type:  <class 'bytes'>\n",
      "Wrong type:  <class 'bytes'>\n",
      "Wrong type:  <class 'bytes'>\n",
      "Wrong type:  <class 'bytes'>\n",
      "Wrong type:  <class 'bytes'>\n",
      "Wrong type:  <class 'bytes'>\n",
      "Wrong type:  <class 'bytes'>\n",
      "Wrong type:  <class 'bytes'>\n",
      "Wrong type:  <class 'bytes'>\n",
      "Wrong type:  <class 'bytes'>\n",
      "Wrong type:  <class 'bytes'>\n",
      "Wrong type:  <class 'bytes'>\n",
      "Wrong type:  <class 'bytes'>\n",
      "Wrong type:  <class 'bytes'>\n",
      "Wrong type:  <class 'bytes'>\n",
      "Wrong type:  <class 'bytes'>\n",
      "Wrong type:  <class 'bytes'>\n",
      "Wrong type:  <class 'bytes'>\n",
      "Wrong type:  <class 'bytes'>\n",
      "Wrong type:  <class 'bytes'>\n",
      "Wrong type:  <class 'bytes'>\n",
      "Wrong type:  <class 'bytes'>\n",
      "Wrong type:  <class 'bytes'>\n",
      "Wrong type:  <class 'bytes'>\n",
      "Wrong type:  <class 'bytes'>\n",
      "Wrong type:  <class 'bytes'>\n",
      "Wrong type:  <class 'bytes'>\n",
      "Wrong type:  <class 'bytes'>\n",
      "Wrong type:  <class 'bytes'>\n",
      "Wrong type:  <class 'bytes'>\n",
      "Wrong type:  <class 'bytes'>\n",
      "Wrong type:  <class 'bytes'>\n",
      "Wrong type:  <class 'bytes'>\n",
      "Wrong type:  <class 'bytes'>\n",
      "Wrong type:  <class 'bytes'>\n",
      "Wrong type:  <class 'bytes'>\n",
      "Wrong type:  <class 'bytes'>\n",
      "Wrong type:  <class 'bytes'>\n",
      "Wrong type:  <class 'bytes'>\n",
      "Wrong type:  <class 'bytes'>\n",
      "Wrong type:  <class 'bytes'>\n",
      "Wrong type:  <class 'bytes'>\n",
      "Wrong type:  <class 'bytes'>\n",
      "Wrong type:  <class 'bytes'>\n",
      "Wrong type:  <class 'bytes'>\n",
      "Wrong type:  <class 'bytes'>\n",
      "Wrong type:  <class 'bytes'>\n",
      "Wrong type:  <class 'bytes'>\n",
      "Wrong type:  <class 'bytes'>\n",
      "Wrong type:  <class 'bytes'>\n",
      "Wrong type:  <class 'bytes'>\n",
      "Wrong type:  <class 'bytes'>\n",
      "Wrong type:  <class 'bytes'>\n",
      "Wrong type:  <class 'bytes'>\n",
      "Wrong type:  <class 'bytes'>\n",
      "Wrong type:  <class 'bytes'>\n",
      "Wrong type:  <class 'bytes'>\n",
      "Wrong type:  <class 'bytes'>\n",
      "Wrong type:  <class 'bytes'>\n",
      "Wrong type:  <class 'bytes'>\n",
      "Wrong type:  <class 'bytes'>\n",
      "Wrong type:  <class 'bytes'>\n",
      "Wrong type:  <class 'bytes'>\n",
      "Wrong type:  <class 'bytes'>\n",
      "Wrong type:  <class 'bytes'>\n",
      "Wrong type:  <class 'bytes'>\n",
      "Wrong type:  <class 'bytes'>\n",
      "Wrong type:  <class 'bytes'>\n",
      "Wrong type:  <class 'bytes'>\n",
      "Wrong type:  <class 'bytes'>\n",
      "Wrong type:  <class 'bytes'>\n",
      "Wrong type:  <class 'bytes'>\n",
      "Wrong type:  <class 'bytes'>\n",
      "Wrong type:  <class 'bytes'>\n",
      "Wrong type:  <class 'bytes'>\n",
      "Wrong type:  <class 'bytes'>\n",
      "Wrong type:  <class 'bytes'>\n",
      "Wrong type:  <class 'bytes'>\n",
      "Wrong type:  <class 'bytes'>\n",
      "Wrong type:  <class 'bytes'>\n",
      "Wrong type:  <class 'bytes'>\n",
      "Wrong type:  <class 'bytes'>\n",
      "Wrong type:  <class 'bytes'>\n",
      "Wrong type:  <class 'bytes'>\n",
      "Wrong type:  <class 'bytes'>\n",
      "Wrong type:  <class 'bytes'>\n",
      "Wrong type:  <class 'bytes'>\n",
      "Wrong type:  <class 'bytes'>\n",
      "Wrong type:  <class 'bytes'>\n",
      "Wrong type:  <class 'bytes'>\n",
      "Wrong type:  <class 'bytes'>\n",
      "Wrong type:  <class 'bytes'>\n",
      "Wrong type:  <class 'bytes'>\n",
      "Wrong type:  <class 'bytes'>\n",
      "Wrong type:  <class 'bytes'>\n",
      "Wrong type:  <class 'bytes'>\n",
      "Wrong type:  <class 'bytes'>\n",
      "Wrong type:  <class 'bytes'>\n",
      "Wrong type:  <class 'bytes'>\n",
      "Wrong type:  <class 'bytes'>\n",
      "Wrong type:  <class 'bytes'>\n",
      "Wrong type:  <class 'bytes'>\n",
      "Wrong type:  <class 'bytes'>\n",
      "Wrong type:  <class 'bytes'>\n",
      "Wrong type:  <class 'bytes'>\n",
      "Wrong type:  <class 'bytes'>\n",
      "Wrong type:  <class 'bytes'>\n",
      "Wrong type:  <class 'bytes'>\n",
      "Wrong type:  <class 'bytes'>\n",
      "Wrong type:  <class 'bytes'>\n",
      "Wrong type:  <class 'bytes'>\n",
      "Wrong type:  <class 'bytes'>\n",
      "Wrong type:  <class 'bytes'>\n",
      "Wrong type:  <class 'bytes'>\n",
      "Wrong type:  <class 'bytes'>\n",
      "Wrong type:  <class 'bytes'>\n",
      "Wrong type:  <class 'bytes'>\n",
      "Wrong type:  <class 'bytes'>\n",
      "Wrong type:  <class 'bytes'>\n",
      "Wrong type:  <class 'bytes'>\n",
      "Wrong type:  <class 'bytes'>\n",
      "Wrong type:  <class 'bytes'>\n",
      "Wrong type:  <class 'bytes'>\n",
      "Wrong type:  <class 'bytes'>\n",
      "Wrong type:  <class 'bytes'>\n",
      "Wrong type:  <class 'bytes'>\n",
      "Wrong type:  <class 'bytes'>\n",
      "Wrong type:  <class 'bytes'>\n",
      "Wrong type:  <class 'bytes'>\n",
      "Wrong type:  <class 'bytes'>\n",
      "Wrong type:  <class 'bytes'>\n",
      "Wrong type:  <class 'bytes'>\n",
      "Wrong type:  <class 'bytes'>\n",
      "Wrong type:  <class 'bytes'>\n",
      "Wrong type:  <class 'bytes'>\n",
      "Wrong type:  <class 'bytes'>\n",
      "Wrong type:  <class 'bytes'>\n",
      "Wrong type:  <class 'bytes'>\n",
      "Wrong type:  <class 'bytes'>\n",
      "Wrong type:  <class 'bytes'>\n",
      "Wrong type:  <class 'bytes'>\n",
      "Wrong type:  <class 'bytes'>\n",
      "Wrong type:  <class 'bytes'>\n",
      "Wrong type:  <class 'bytes'>\n",
      "Wrong type:  <class 'bytes'>\n",
      "Wrong type:  <class 'bytes'>\n",
      "Wrong type:  <class 'bytes'>\n",
      "Wrong type:  <class 'bytes'>\n",
      "Wrong type:  <class 'bytes'>\n",
      "Wrong type:  <class 'bytes'>\n",
      "Wrong type:  <class 'bytes'>\n",
      "Wrong type:  <class 'bytes'>\n",
      "Wrong type:  <class 'bytes'>\n",
      "Wrong type:  <class 'bytes'>\n",
      "Wrong type:  <class 'bytes'>\n",
      "Wrong type:  <class 'bytes'>\n",
      "Wrong type:  <class 'bytes'>\n",
      "Wrong type:  <class 'bytes'>\n",
      "Wrong type:  <class 'bytes'>\n",
      "Wrong type:  <class 'bytes'>\n",
      "Wrong type:  <class 'bytes'>\n",
      "Wrong type:  <class 'bytes'>\n",
      "Wrong type:  <class 'bytes'>\n",
      "Wrong type:  <class 'bytes'>\n",
      "Wrong type:  <class 'bytes'>\n",
      "Wrong type:  <class 'bytes'>\n",
      "Wrong type:  <class 'bytes'>\n",
      "Wrong type:  <class 'bytes'>\n",
      "Wrong type:  <class 'bytes'>\n",
      "Wrong type:  <class 'bytes'>\n",
      "Wrong type:  <class 'bytes'>\n",
      "Wrong type:  <class 'bytes'>\n",
      "Wrong type:  <class 'bytes'>\n",
      "Wrong type:  <class 'bytes'>\n",
      "Wrong type:  <class 'bytes'>\n",
      "Wrong type:  <class 'bytes'>\n",
      "Wrong type:  <class 'bytes'>\n",
      "Wrong type:  <class 'bytes'>\n",
      "Wrong type:  <class 'bytes'>\n",
      "Wrong type:  <class 'bytes'>\n",
      "Wrong type:  <class 'bytes'>\n",
      "Wrong type:  <class 'bytes'>\n",
      "Wrong type:  <class 'bytes'>\n",
      "Wrong type:  <class 'bytes'>\n",
      "Wrong type:  <class 'bytes'>\n",
      "Wrong type:  <class 'bytes'>\n",
      "Wrong type:  <class 'bytes'>\n",
      "Wrong type:  <class 'bytes'>\n",
      "Wrong type:  <class 'bytes'>\n",
      "Wrong type:  <class 'bytes'>\n",
      "Wrong type:  <class 'bytes'>\n",
      "Wrong type:  <class 'bytes'>\n",
      "Wrong type:  <class 'bytes'>\n",
      "Wrong type:  <class 'bytes'>\n",
      "Wrong type:  <class 'bytes'>\n",
      "Wrong type:  <class 'bytes'>\n",
      "Wrong type:  <class 'bytes'>\n",
      "Wrong type:  <class 'bytes'>\n",
      "Wrong type:  <class 'bytes'>\n",
      "Wrong type:  <class 'bytes'>\n",
      "Wrong type:  <class 'bytes'>\n",
      "Wrong type:  <class 'bytes'>\n",
      "Wrong type:  <class 'bytes'>\n",
      "Wrong type:  <class 'bytes'>\n",
      "Wrong type:  <class 'bytes'>\n",
      "Wrong type:  <class 'bytes'>\n",
      "Wrong type:  <class 'bytes'>\n",
      "Wrong type:  <class 'bytes'>\n",
      "Wrong type:  <class 'bytes'>\n",
      "Wrong type:  <class 'bytes'>\n",
      "Wrong type:  <class 'bytes'>\n",
      "Wrong type:  <class 'bytes'>\n",
      "Wrong type:  <class 'bytes'>\n",
      "Wrong type:  <class 'bytes'>\n",
      "Wrong type:  <class 'bytes'>\n",
      "Wrong type:  <class 'bytes'>\n",
      "Wrong type:  <class 'bytes'>\n",
      "Wrong type:  <class 'bytes'>\n",
      "Wrong type:  <class 'bytes'>\n",
      "Wrong type:  <class 'bytes'>\n",
      "Wrong type:  <class 'bytes'>\n",
      "Wrong type:  <class 'bytes'>\n",
      "Wrong type:  <class 'bytes'>\n",
      "Wrong type:  <class 'bytes'>\n",
      "Wrong type:  <class 'bytes'>\n",
      "Wrong type:  <class 'bytes'>\n",
      "Wrong type:  <class 'bytes'>\n",
      "Wrong type:  <class 'bytes'>\n",
      "Wrong type:  <class 'bytes'>\n",
      "Wrong type:  <class 'bytes'>\n",
      "Wrong type:  <class 'bytes'>\n",
      "Wrong type:  <class 'bytes'>\n",
      "Wrong type:  <class 'bytes'>\n",
      "Wrong type:  <class 'bytes'>\n",
      "Wrong type:  <class 'bytes'>\n",
      "Wrong type:  <class 'bytes'>\n",
      "Wrong type:  <class 'bytes'>\n",
      "Wrong type:  <class 'bytes'>\n",
      "Wrong type:  <class 'bytes'>\n",
      "Wrong type:  <class 'bytes'>\n",
      "Wrong type:  <class 'bytes'>\n",
      "Wrong type:  <class 'bytes'>\n",
      "Wrong type:  <class 'bytes'>\n",
      "Wrong type:  <class 'bytes'>\n",
      "Wrong type:  <class 'bytes'>\n",
      "Wrong type:  <class 'bytes'>\n",
      "Wrong type:  <class 'bytes'>\n",
      "Wrong type:  <class 'bytes'>\n",
      "Wrong type:  <class 'bytes'>\n",
      "Wrong type:  <class 'bytes'>\n",
      "Wrong type:  <class 'bytes'>\n",
      "Wrong type:  <class 'bytes'>\n",
      "Wrong type:  <class 'bytes'>\n",
      "Wrong type:  <class 'bytes'>\n",
      "Wrong type:  <class 'bytes'>\n",
      "Wrong type:  <class 'bytes'>\n",
      "Wrong type:  <class 'bytes'>\n",
      "Wrong type:  <class 'bytes'>\n",
      "Wrong type:  <class 'bytes'>\n",
      "Wrong type:  <class 'bytes'>\n",
      "Wrong type:  <class 'bytes'>\n",
      "Wrong type:  <class 'bytes'>\n",
      "Wrong type:  <class 'bytes'>\n",
      "Wrong type:  <class 'bytes'>\n",
      "Wrong type:  <class 'bytes'>\n",
      "Wrong type:  <class 'bytes'>\n",
      "Wrong type:  <class 'bytes'>\n",
      "Wrong type:  <class 'bytes'>\n",
      "Wrong type:  <class 'bytes'>\n",
      "Wrong type:  <class 'bytes'>\n",
      "Wrong type:  <class 'bytes'>\n",
      "Wrong type:  <class 'bytes'>\n",
      "Wrong type:  <class 'bytes'>\n",
      "Wrong type:  <class 'bytes'>\n",
      "Wrong type:  <class 'bytes'>\n",
      "Wrong type:  <class 'bytes'>\n",
      "Wrong type:  <class 'bytes'>\n",
      "Wrong type:  <class 'bytes'>\n",
      "Wrong type:  <class 'bytes'>\n",
      "Wrong type:  <class 'bytes'>\n",
      "Wrong type:  <class 'bytes'>\n",
      "Wrong type:  <class 'bytes'>\n",
      "Wrong type:  <class 'bytes'>\n",
      "Wrong type:  <class 'bytes'>\n",
      "Wrong type:  <class 'bytes'>\n",
      "Wrong type:  <class 'bytes'>\n",
      "Wrong type:  <class 'bytes'>\n",
      "Wrong type:  <class 'bytes'>\n",
      "Wrong type:  <class 'bytes'>\n",
      "Wrong type:  <class 'bytes'>\n",
      "Wrong type:  <class 'bytes'>\n",
      "Wrong type:  <class 'bytes'>\n",
      "Wrong type:  <class 'bytes'>\n",
      "Wrong type:  <class 'bytes'>\n",
      "Wrong type:  <class 'bytes'>\n",
      "Wrong type:  <class 'bytes'>\n",
      "Wrong type:  <class 'bytes'>\n",
      "Wrong type:  <class 'bytes'>\n",
      "Wrong type:  <class 'bytes'>\n",
      "Wrong type:  <class 'bytes'>\n",
      "Wrong type:  <class 'bytes'>\n",
      "Wrong type:  <class 'bytes'>\n",
      "Wrong type:  <class 'bytes'>\n",
      "Wrong type:  <class 'bytes'>\n",
      "Wrong type:  <class 'bytes'>\n",
      "Wrong type:  <class 'bytes'>\n",
      "Wrong type:  <class 'bytes'>\n",
      "Wrong type:  <class 'bytes'>\n",
      "Wrong type:  <class 'bytes'>\n",
      "Wrong type:  <class 'bytes'>\n",
      "Wrong type:  <class 'bytes'>\n",
      "Wrong type:  <class 'bytes'>\n",
      "Wrong type:  <class 'bytes'>\n",
      "Wrong type:  <class 'bytes'>\n",
      "Wrong type:  <class 'bytes'>\n",
      "Wrong type:  <class 'bytes'>\n",
      "Wrong type:  <class 'bytes'>\n",
      "Wrong type:  <class 'bytes'>\n",
      "Wrong type:  <class 'bytes'>\n",
      "Wrong type:  <class 'bytes'>\n",
      "Wrong type:  <class 'bytes'>\n",
      "Wrong type:  <class 'bytes'>\n",
      "Wrong type:  <class 'bytes'>\n",
      "Wrong type:  <class 'bytes'>\n",
      "Wrong type:  <class 'bytes'>\n",
      "Wrong type:  <class 'bytes'>\n",
      "Wrong type:  <class 'bytes'>\n",
      "Wrong type:  <class 'bytes'>\n",
      "Wrong type:  <class 'bytes'>\n",
      "Wrong type:  <class 'bytes'>\n",
      "Wrong type:  <class 'bytes'>\n",
      "Wrong type:  <class 'bytes'>\n",
      "Wrong type:  <class 'bytes'>\n",
      "Wrong type:  <class 'bytes'>\n",
      "Wrong type:  <class 'bytes'>\n",
      "Wrong type:  <class 'bytes'>\n",
      "Wrong type:  <class 'bytes'>\n",
      "Wrong type:  <class 'bytes'>\n",
      "Wrong type:  <class 'bytes'>\n",
      "Wrong type:  <class 'bytes'>\n",
      "Wrong type:  <class 'bytes'>\n",
      "Wrong type:  <class 'bytes'>\n",
      "Wrong type:  <class 'bytes'>\n",
      "Wrong type:  <class 'bytes'>\n",
      "Wrong type:  <class 'bytes'>\n",
      "Wrong type:  <class 'bytes'>\n",
      "Wrong type:  <class 'bytes'>\n",
      "Wrong type:  <class 'bytes'>\n",
      "Wrong type:  <class 'bytes'>\n",
      "Wrong type:  <class 'bytes'>\n",
      "Wrong type:  <class 'bytes'>\n",
      "Wrong type:  <class 'bytes'>\n",
      "Wrong type:  <class 'bytes'>\n",
      "Wrong type:  <class 'bytes'>\n",
      "Wrong type:  <class 'bytes'>\n",
      "Wrong type:  <class 'bytes'>\n",
      "Wrong type:  <class 'bytes'>\n",
      "Wrong type:  <class 'bytes'>\n",
      "Wrong type:  <class 'bytes'>\n",
      "Wrong type:  <class 'bytes'>\n",
      "Wrong type:  <class 'bytes'>\n",
      "Wrong type:  <class 'bytes'>\n",
      "Wrong type:  <class 'bytes'>\n",
      "Wrong type:  <class 'bytes'>\n",
      "Wrong type:  <class 'bytes'>\n",
      "Wrong type:  <class 'bytes'>\n",
      "Wrong type:  <class 'bytes'>\n",
      "Wrong type:  <class 'bytes'>\n",
      "Wrong type:  <class 'bytes'>\n",
      "Wrong type:  <class 'bytes'>\n",
      "Wrong type:  <class 'bytes'>\n",
      "Wrong type:  <class 'bytes'>\n",
      "Wrong type:  <class 'bytes'>\n",
      "Wrong type:  <class 'bytes'>\n",
      "Wrong type:  <class 'bytes'>\n",
      "Wrong type:  <class 'bytes'>\n",
      "Wrong type:  <class 'bytes'>\n",
      "Wrong type:  <class 'bytes'>\n",
      "Wrong type:  <class 'bytes'>\n",
      "Wrong type:  <class 'bytes'>\n",
      "Wrong type:  <class 'bytes'>\n",
      "Wrong type:  <class 'bytes'>\n",
      "Wrong type:  <class 'bytes'>\n",
      "Wrong type:  <class 'bytes'>\n",
      "Wrong type:  <class 'bytes'>\n",
      "Wrong type:  <class 'bytes'>\n",
      "Wrong type:  <class 'bytes'>\n",
      "Wrong type:  <class 'bytes'>\n",
      "Wrong type:  <class 'bytes'>\n",
      "Wrong type:  <class 'bytes'>\n",
      "Wrong type:  <class 'bytes'>\n",
      "Wrong type:  <class 'bytes'>\n",
      "Wrong type:  <class 'bytes'>\n",
      "Wrong type:  <class 'bytes'>\n",
      "Wrong type:  <class 'bytes'>\n",
      "Wrong type:  <class 'bytes'>\n",
      "Wrong type:  <class 'bytes'>\n",
      "Wrong type:  <class 'bytes'>\n",
      "Wrong type:  <class 'bytes'>\n",
      "Wrong type:  <class 'bytes'>\n",
      "Wrong type:  <class 'bytes'>\n",
      "Wrong type:  <class 'bytes'>\n",
      "Wrong type:  <class 'bytes'>\n",
      "Wrong type:  <class 'bytes'>\n",
      "Wrong type:  <class 'bytes'>\n",
      "Wrong type:  <class 'bytes'>\n",
      "Wrong type:  <class 'bytes'>\n",
      "Wrong type:  <class 'bytes'>\n",
      "Wrong type:  <class 'bytes'>\n",
      "Wrong type:  <class 'bytes'>\n",
      "Wrong type:  <class 'bytes'>\n",
      "Wrong type:  <class 'bytes'>\n",
      "Wrong type:  <class 'bytes'>\n",
      "Wrong type:  <class 'bytes'>\n",
      "Wrong type:  <class 'bytes'>\n",
      "Wrong type:  <class 'bytes'>\n",
      "Wrong type:  <class 'bytes'>\n",
      "Wrong type:  <class 'bytes'>\n",
      "Wrong type:  <class 'bytes'>\n",
      "Wrong type:  <class 'bytes'>\n",
      "Wrong type:  <class 'bytes'>\n",
      "Wrong type:  <class 'bytes'>\n",
      "Wrong type:  <class 'bytes'>\n",
      "Wrong type:  <class 'bytes'>\n",
      "Wrong type:  <class 'bytes'>\n",
      "Wrong type:  <class 'bytes'>\n",
      "Wrong type:  <class 'bytes'>\n",
      "Wrong type:  <class 'bytes'>\n",
      "Wrong type:  <class 'bytes'>\n",
      "Wrong type:  <class 'bytes'>\n",
      "Wrong type:  <class 'bytes'>\n",
      "Wrong type:  <class 'bytes'>\n",
      "Wrong type:  <class 'bytes'>\n",
      "Wrong type:  <class 'bytes'>\n",
      "Wrong type:  <class 'bytes'>\n",
      "Wrong type:  <class 'bytes'>\n",
      "Wrong type:  <class 'bytes'>\n",
      "Wrong type:  <class 'bytes'>\n",
      "Wrong type:  <class 'bytes'>\n",
      "Wrong type:  <class 'bytes'>\n",
      "Wrong type:  <class 'bytes'>\n",
      "Wrong type:  <class 'bytes'>\n",
      "Wrong type:  <class 'bytes'>\n",
      "Wrong type:  <class 'bytes'>\n",
      "Wrong type:  <class 'bytes'>\n",
      "Wrong type:  <class 'bytes'>\n",
      "Wrong type:  <class 'bytes'>\n",
      "Wrong type:  <class 'bytes'>\n",
      "Wrong type:  <class 'bytes'>\n",
      "Wrong type:  <class 'bytes'>\n",
      "Wrong type:  <class 'bytes'>\n",
      "Wrong type:  <class 'bytes'>\n",
      "Wrong type:  <class 'bytes'>\n",
      "Wrong type:  <class 'bytes'>\n",
      "Wrong type:  <class 'bytes'>\n",
      "Wrong type:  <class 'bytes'>\n",
      "Wrong type:  <class 'bytes'>\n",
      "Wrong type:  <class 'bytes'>\n",
      "Wrong type:  <class 'bytes'>\n",
      "Wrong type:  <class 'bytes'>\n",
      "Wrong type:  <class 'bytes'>\n",
      "Wrong type:  <class 'bytes'>\n",
      "Wrong type:  <class 'bytes'>\n",
      "Wrong type:  <class 'bytes'>\n",
      "Wrong type:  <class 'bytes'>\n",
      "Wrong type:  <class 'bytes'>\n",
      "Wrong type:  <class 'bytes'>\n",
      "Wrong type:  <class 'bytes'>\n",
      "Wrong type:  <class 'bytes'>\n",
      "Wrong type:  <class 'bytes'>\n",
      "Wrong type:  <class 'bytes'>\n",
      "Wrong type:  <class 'bytes'>\n",
      "Wrong type:  <class 'bytes'>\n",
      "Wrong type:  <class 'bytes'>\n",
      "Wrong type:  <class 'bytes'>\n",
      "Wrong type:  <class 'bytes'>\n",
      "Wrong type:  <class 'bytes'>\n",
      "Wrong type:  <class 'bytes'>\n",
      "Wrong type:  <class 'bytes'>\n",
      "Wrong type:  <class 'bytes'>\n",
      "Wrong type:  <class 'bytes'>\n",
      "Wrong type:  <class 'bytes'>\n",
      "Wrong type:  <class 'bytes'>\n",
      "Wrong type:  <class 'bytes'>\n",
      "Wrong type:  <class 'bytes'>\n",
      "Wrong type:  <class 'bytes'>\n",
      "Wrong type:  <class 'bytes'>\n",
      "Wrong type:  <class 'bytes'>\n",
      "Wrong type:  <class 'bytes'>\n",
      "Wrong type:  <class 'bytes'>\n",
      "Wrong type:  <class 'bytes'>\n",
      "Wrong type:  <class 'bytes'>\n",
      "Wrong type:  <class 'bytes'>\n",
      "Wrong type:  <class 'bytes'>\n",
      "Wrong type:  <class 'bytes'>\n",
      "Wrong type:  <class 'bytes'>\n",
      "Wrong type:  <class 'bytes'>\n",
      "Wrong type:  <class 'bytes'>\n",
      "Wrong type:  <class 'bytes'>\n",
      "Wrong type:  <class 'bytes'>\n",
      "Wrong type:  <class 'bytes'>\n",
      "Wrong type:  <class 'bytes'>\n",
      "Wrong type:  <class 'bytes'>\n",
      "Wrong type:  <class 'bytes'>\n",
      "Wrong type:  <class 'bytes'>\n",
      "Wrong type:  <class 'bytes'>\n",
      "Wrong type:  <class 'bytes'>\n",
      "Wrong type:  <class 'bytes'>\n",
      "Wrong type:  <class 'bytes'>\n",
      "Wrong type:  <class 'bytes'>\n",
      "Wrong type:  <class 'bytes'>\n",
      "Wrong type:  <class 'bytes'>\n",
      "Wrong type:  <class 'bytes'>\n",
      "Wrong type:  <class 'bytes'>\n",
      "Wrong type:  <class 'bytes'>\n",
      "Wrong type:  <class 'bytes'>\n",
      "Wrong type:  <class 'bytes'>\n",
      "Wrong type:  <class 'bytes'>\n",
      "Wrong type:  <class 'bytes'>\n",
      "Wrong type:  <class 'bytes'>\n",
      "Wrong type:  <class 'bytes'>\n",
      "Wrong type:  <class 'bytes'>\n",
      "Wrong type:  <class 'bytes'>\n",
      "Wrong type:  <class 'bytes'>\n",
      "Wrong type:  <class 'bytes'>\n",
      "Wrong type:  <class 'bytes'>\n",
      "Wrong type:  <class 'bytes'>\n",
      "Wrong type:  <class 'bytes'>\n",
      "Wrong type:  <class 'bytes'>\n",
      "Wrong type:  <class 'bytes'>\n",
      "Wrong type:  <class 'bytes'>\n",
      "Wrong type:  <class 'bytes'>\n",
      "Wrong type:  <class 'bytes'>\n",
      "Wrong type:  <class 'bytes'>\n",
      "Wrong type:  <class 'bytes'>\n",
      "Wrong type:  <class 'bytes'>\n",
      "Wrong type:  <class 'bytes'>\n",
      "Wrong type:  <class 'bytes'>\n",
      "Wrong type:  <class 'bytes'>\n",
      "Wrong type:  <class 'bytes'>\n",
      "Wrong type:  <class 'bytes'>\n",
      "Wrong type:  <class 'bytes'>\n",
      "Wrong type:  <class 'bytes'>\n",
      "Wrong type:  <class 'bytes'>\n",
      "Wrong type:  <class 'bytes'>\n",
      "Wrong type:  <class 'bytes'>\n",
      "Wrong type:  <class 'bytes'>\n",
      "Wrong type:  <class 'bytes'>\n",
      "Wrong type:  <class 'bytes'>\n",
      "Wrong type:  <class 'bytes'>\n",
      "Wrong type:  <class 'bytes'>\n",
      "Wrong type:  <class 'bytes'>\n",
      "Wrong type:  <class 'bytes'>\n",
      "Wrong type:  <class 'bytes'>\n",
      "Wrong type:  <class 'bytes'>\n",
      "Wrong type:  <class 'bytes'>\n",
      "Wrong type:  <class 'bytes'>\n",
      "Wrong type:  <class 'bytes'>\n",
      "Wrong type:  <class 'bytes'>\n",
      "Wrong type:  <class 'bytes'>\n",
      "Wrong type:  <class 'bytes'>\n",
      "Wrong type:  <class 'bytes'>\n",
      "Wrong type:  <class 'bytes'>\n",
      "Wrong type:  <class 'bytes'>\n",
      "Wrong type:  <class 'bytes'>\n",
      "Wrong type:  <class 'bytes'>\n",
      "Wrong type:  <class 'bytes'>\n",
      "Wrong type:  <class 'bytes'>\n",
      "Wrong type:  <class 'bytes'>\n",
      "Wrong type:  <class 'bytes'>\n",
      "Wrong type:  <class 'bytes'>\n",
      "Wrong type:  <class 'bytes'>\n",
      "Wrong type:  <class 'bytes'>\n",
      "Wrong type:  <class 'bytes'>\n",
      "Wrong type:  <class 'bytes'>\n",
      "Wrong type:  <class 'bytes'>\n",
      "Wrong type:  <class 'bytes'>\n",
      "Wrong type:  <class 'bytes'>\n",
      "Wrong type:  <class 'bytes'>\n",
      "Wrong type:  <class 'bytes'>\n",
      "Wrong type:  <class 'bytes'>\n",
      "Wrong type:  <class 'bytes'>\n",
      "Wrong type:  <class 'bytes'>\n",
      "Wrong type:  <class 'bytes'>\n",
      "Wrong type:  <class 'bytes'>\n",
      "Wrong type:  <class 'bytes'>\n",
      "Wrong type:  <class 'bytes'>\n",
      "Wrong type:  <class 'bytes'>\n",
      "Wrong type:  <class 'bytes'>\n",
      "Wrong type:  <class 'bytes'>\n",
      "Wrong type:  <class 'bytes'>\n",
      "Wrong type:  <class 'bytes'>\n",
      "Wrong type:  <class 'bytes'>\n",
      "Wrong type:  <class 'bytes'>\n",
      "Wrong type:  <class 'bytes'>\n",
      "Wrong type:  <class 'bytes'>\n",
      "Wrong type:  <class 'bytes'>\n",
      "Wrong type:  <class 'bytes'>\n",
      "Wrong type:  <class 'bytes'>\n",
      "Wrong type:  <class 'bytes'>\n",
      "Wrong type:  <class 'bytes'>\n",
      "Wrong type:  <class 'bytes'>\n",
      "Wrong type:  <class 'bytes'>\n",
      "Wrong type:  <class 'bytes'>\n",
      "Wrong type:  <class 'bytes'>\n",
      "Wrong type:  <class 'bytes'>\n",
      "Wrong type:  <class 'bytes'>\n",
      "Wrong type:  <class 'bytes'>\n",
      "Wrong type:  <class 'bytes'>\n",
      "Wrong type:  <class 'bytes'>\n",
      "Wrong type:  <class 'bytes'>\n",
      "Wrong type:  <class 'bytes'>\n",
      "Wrong type:  <class 'bytes'>\n",
      "Wrong type:  <class 'bytes'>\n",
      "Wrong type:  <class 'bytes'>\n",
      "Wrong type:  <class 'bytes'>\n",
      "Wrong type:  <class 'bytes'>\n",
      "Wrong type:  <class 'bytes'>\n",
      "Wrong type:  <class 'bytes'>\n",
      "Wrong type:  <class 'bytes'>\n",
      "Wrong type:  <class 'bytes'>\n",
      "Wrong type:  <class 'bytes'>\n",
      "Wrong type:  <class 'bytes'>\n",
      "Wrong type:  <class 'bytes'>\n",
      "Wrong type:  <class 'bytes'>\n",
      "Wrong type:  <class 'bytes'>\n",
      "Wrong type:  <class 'bytes'>\n",
      "Wrong type:  <class 'bytes'>\n",
      "Wrong type:  <class 'bytes'>\n",
      "Wrong type:  <class 'bytes'>\n",
      "Wrong type:  <class 'bytes'>\n",
      "Wrong type:  <class 'bytes'>\n",
      "Wrong type:  <class 'bytes'>\n",
      "Wrong type:  <class 'bytes'>\n",
      "Wrong type:  <class 'bytes'>\n",
      "Wrong type:  <class 'bytes'>\n",
      "Wrong type:  <class 'bytes'>\n",
      "Wrong type:  <class 'bytes'>\n",
      "Wrong type:  <class 'bytes'>\n",
      "Wrong type:  <class 'bytes'>\n",
      "Wrong type:  <class 'bytes'>\n",
      "Wrong type:  <class 'bytes'>\n",
      "Wrong type:  <class 'bytes'>\n",
      "Wrong type:  <class 'bytes'>\n",
      "Wrong type:  <class 'bytes'>\n",
      "Wrong type:  <class 'bytes'>\n",
      "Wrong type:  <class 'bytes'>\n",
      "Wrong type:  <class 'bytes'>\n",
      "Wrong type:  <class 'bytes'>\n",
      "Wrong type:  <class 'bytes'>\n",
      "Wrong type:  <class 'bytes'>\n",
      "Wrong type:  <class 'bytes'>\n",
      "Wrong type:  <class 'bytes'>\n",
      "Wrong type:  <class 'bytes'>\n",
      "Wrong type:  <class 'bytes'>\n",
      "Wrong type:  <class 'bytes'>\n",
      "Wrong type:  <class 'bytes'>\n",
      "Wrong type:  <class 'bytes'>\n",
      "Wrong type:  <class 'bytes'>\n",
      "Wrong type:  <class 'bytes'>\n",
      "Wrong type:  <class 'bytes'>\n",
      "Wrong type:  <class 'bytes'>\n",
      "Wrong type:  <class 'bytes'>\n",
      "Wrong type:  <class 'bytes'>\n",
      "Wrong type:  <class 'bytes'>\n",
      "Wrong type:  <class 'bytes'>\n",
      "Wrong type:  <class 'bytes'>\n",
      "Wrong type:  <class 'bytes'>\n",
      "Wrong type:  <class 'bytes'>\n",
      "Wrong type:  <class 'bytes'>\n",
      "Wrong type:  <class 'bytes'>\n",
      "Wrong type:  <class 'bytes'>\n",
      "Wrong type:  <class 'bytes'>\n",
      "Wrong type:  <class 'bytes'>\n",
      "Wrong type:  <class 'bytes'>\n",
      "Wrong type:  <class 'bytes'>\n",
      "Wrong type:  <class 'bytes'>\n",
      "Wrong type:  <class 'bytes'>\n",
      "Wrong type:  <class 'bytes'>\n",
      "Wrong type:  <class 'bytes'>\n",
      "Wrong type:  <class 'bytes'>\n",
      "Wrong type:  <class 'bytes'>\n",
      "Wrong type:  <class 'bytes'>\n",
      "Wrong type:  <class 'bytes'>\n",
      "Wrong type:  <class 'bytes'>\n",
      "Wrong type:  <class 'bytes'>\n",
      "Wrong type:  <class 'bytes'>\n",
      "Wrong type:  <class 'bytes'>\n",
      "Wrong type:  <class 'bytes'>\n",
      "Wrong type:  <class 'bytes'>\n",
      "Wrong type:  <class 'bytes'>\n",
      "Wrong type:  <class 'bytes'>\n",
      "Wrong type:  <class 'bytes'>\n",
      "Wrong type:  <class 'bytes'>\n",
      "Wrong type:  <class 'bytes'>\n",
      "Wrong type:  <class 'bytes'>\n",
      "Wrong type:  <class 'bytes'>\n",
      "Wrong type:  <class 'bytes'>\n",
      "Wrong type:  <class 'bytes'>\n",
      "Wrong type:  <class 'bytes'>\n",
      "Wrong type:  <class 'bytes'>\n",
      "Wrong type:  <class 'bytes'>\n",
      "Wrong type:  <class 'bytes'>\n",
      "Wrong type:  <class 'bytes'>\n",
      "Wrong type:  <class 'bytes'>\n",
      "Wrong type:  <class 'bytes'>\n",
      "Wrong type:  <class 'bytes'>\n",
      "Wrong type:  <class 'bytes'>\n",
      "Wrong type:  <class 'bytes'>\n",
      "Wrong type:  <class 'bytes'>\n",
      "Wrong type:  <class 'bytes'>\n",
      "Wrong type:  <class 'bytes'>\n",
      "Wrong type:  <class 'bytes'>\n",
      "Wrong type:  <class 'bytes'>\n",
      "Wrong type:  <class 'bytes'>\n",
      "Wrong type:  <class 'bytes'>\n",
      "Wrong type:  <class 'bytes'>\n",
      "Wrong type:  <class 'bytes'>\n",
      "Wrong type:  <class 'bytes'>\n",
      "Wrong type:  <class 'bytes'>\n",
      "Wrong type:  <class 'bytes'>\n",
      "Wrong type:  <class 'bytes'>\n",
      "Wrong type:  <class 'bytes'>\n",
      "Wrong type:  <class 'bytes'>\n",
      "Wrong type:  <class 'bytes'>\n",
      "Wrong type:  <class 'bytes'>\n",
      "Wrong type:  <class 'bytes'>\n",
      "Wrong type:  <class 'bytes'>\n",
      "Wrong type:  <class 'bytes'>\n",
      "Wrong type:  <class 'bytes'>\n",
      "Wrong type:  <class 'bytes'>\n",
      "Wrong type:  <class 'bytes'>\n",
      "Wrong type:  <class 'bytes'>\n",
      "Wrong type:  <class 'bytes'>\n",
      "Wrong type:  <class 'bytes'>\n",
      "Wrong type:  <class 'bytes'>\n",
      "Wrong type:  <class 'bytes'>\n",
      "Wrong type:  <class 'bytes'>\n",
      "Wrong type:  <class 'bytes'>\n",
      "Wrong type:  <class 'bytes'>\n",
      "Wrong type:  <class 'bytes'>\n",
      "Wrong type:  <class 'bytes'>\n",
      "Wrong type:  <class 'bytes'>\n",
      "Wrong type:  <class 'bytes'>\n",
      "Wrong type:  <class 'bytes'>\n",
      "Wrong type:  <class 'bytes'>\n",
      "Wrong type:  <class 'bytes'>\n",
      "Wrong type:  <class 'bytes'>\n",
      "Wrong type:  <class 'bytes'>\n",
      "Wrong type:  <class 'bytes'>\n",
      "Wrong type:  <class 'bytes'>\n",
      "Wrong type:  <class 'bytes'>\n",
      "Wrong type:  <class 'bytes'>\n",
      "Wrong type:  <class 'bytes'>\n",
      "Wrong type:  <class 'bytes'>\n",
      "Wrong type:  <class 'bytes'>\n",
      "Wrong type:  <class 'bytes'>\n",
      "Wrong type:  <class 'bytes'>\n",
      "Wrong type:  <class 'bytes'>\n",
      "Wrong type:  <class 'bytes'>\n",
      "Wrong type:  <class 'bytes'>\n",
      "Wrong type:  <class 'bytes'>\n",
      "Wrong type:  <class 'bytes'>\n",
      "Wrong type:  <class 'bytes'>\n",
      "Wrong type:  <class 'bytes'>\n",
      "Wrong type:  <class 'bytes'>\n",
      "Wrong type:  <class 'bytes'>\n",
      "Wrong type:  <class 'bytes'>\n",
      "Wrong type:  <class 'bytes'>\n",
      "Wrong type:  <class 'bytes'>\n",
      "Wrong type:  <class 'bytes'>\n",
      "Wrong type:  <class 'bytes'>\n",
      "Wrong type:  <class 'bytes'>\n",
      "Wrong type:  <class 'bytes'>\n",
      "Wrong type:  <class 'bytes'>\n",
      "Wrong type:  <class 'bytes'>\n",
      "Wrong type:  <class 'bytes'>\n",
      "Wrong type:  <class 'bytes'>\n",
      "Wrong type:  <class 'bytes'>\n",
      "Wrong type:  <class 'bytes'>\n",
      "Wrong type:  <class 'bytes'>\n",
      "Wrong type:  <class 'bytes'>\n",
      "Wrong type:  <class 'bytes'>\n",
      "Wrong type:  <class 'bytes'>\n",
      "Wrong type:  <class 'bytes'>\n",
      "Wrong type:  <class 'bytes'>\n",
      "Wrong type:  <class 'bytes'>\n",
      "Wrong type:  <class 'bytes'>\n",
      "Wrong type:  <class 'bytes'>\n",
      "Wrong type:  <class 'bytes'>\n",
      "Wrong type:  <class 'bytes'>\n",
      "Wrong type:  <class 'bytes'>\n",
      "Wrong type:  <class 'bytes'>\n",
      "Wrong type:  <class 'bytes'>\n",
      "Wrong type:  <class 'bytes'>\n",
      "Wrong type:  <class 'bytes'>\n",
      "Wrong type:  <class 'bytes'>\n",
      "Wrong type:  <class 'bytes'>\n",
      "Wrong type:  <class 'bytes'>\n",
      "Wrong type:  <class 'bytes'>\n",
      "Wrong type:  <class 'bytes'>\n",
      "Wrong type:  <class 'bytes'>\n",
      "Wrong type:  <class 'bytes'>\n",
      "Wrong type:  <class 'bytes'>\n",
      "Wrong type:  <class 'bytes'>\n",
      "Wrong type:  <class 'bytes'>\n",
      "Wrong type:  <class 'bytes'>\n",
      "Wrong type:  <class 'bytes'>\n",
      "Wrong type:  <class 'bytes'>\n",
      "Wrong type:  <class 'bytes'>\n",
      "Wrong type:  <class 'bytes'>\n",
      "Wrong type:  <class 'bytes'>\n",
      "Wrong type:  <class 'bytes'>\n",
      "Wrong type:  <class 'bytes'>\n",
      "Wrong type:  <class 'bytes'>\n",
      "Wrong type:  <class 'bytes'>\n",
      "Wrong type:  <class 'bytes'>\n",
      "Wrong type:  <class 'bytes'>\n",
      "Wrong type:  <class 'bytes'>\n",
      "Wrong type:  <class 'bytes'>\n",
      "Wrong type:  <class 'bytes'>\n",
      "Wrong type:  <class 'bytes'>\n",
      "Wrong type:  <class 'bytes'>\n",
      "Wrong type:  <class 'bytes'>\n",
      "Wrong type:  <class 'bytes'>\n",
      "Wrong type:  <class 'bytes'>\n",
      "Wrong type:  <class 'bytes'>\n",
      "Wrong type:  <class 'bytes'>\n",
      "Wrong type:  <class 'bytes'>\n",
      "Wrong type:  <class 'bytes'>\n",
      "Wrong type:  <class 'bytes'>\n",
      "Wrong type:  <class 'bytes'>\n",
      "Wrong type:  <class 'bytes'>\n",
      "Wrong type:  <class 'bytes'>\n",
      "Wrong type:  <class 'bytes'>\n",
      "Wrong type:  <class 'bytes'>\n",
      "Wrong type:  <class 'bytes'>\n",
      "Wrong type:  <class 'bytes'>\n",
      "Wrong type:  <class 'bytes'>\n",
      "Wrong type:  <class 'bytes'>\n",
      "Wrong type:  <class 'bytes'>\n",
      "Wrong type:  <class 'bytes'>\n",
      "Wrong type:  <class 'bytes'>\n",
      "Wrong type:  <class 'bytes'>\n",
      "Wrong type:  <class 'bytes'>\n",
      "Wrong type:  <class 'bytes'>\n",
      "Wrong type:  <class 'bytes'>\n",
      "Wrong type:  <class 'bytes'>\n",
      "Wrong type:  <class 'bytes'>\n",
      "Wrong type:  <class 'bytes'>\n",
      "Wrong type:  <class 'bytes'>\n",
      "Wrong type:  <class 'bytes'>\n",
      "Wrong type:  <class 'bytes'>\n",
      "Wrong type:  <class 'bytes'>\n",
      "Wrong type:  <class 'bytes'>\n",
      "Wrong type:  <class 'bytes'>\n",
      "Wrong type:  <class 'bytes'>\n",
      "Wrong type:  <class 'bytes'>\n",
      "Wrong type:  <class 'bytes'>\n",
      "Wrong type:  <class 'bytes'>\n",
      "Wrong type:  <class 'bytes'>\n",
      "Wrong type:  <class 'bytes'>\n",
      "Wrong type:  <class 'bytes'>\n",
      "Wrong type:  <class 'bytes'>\n",
      "Wrong type:  <class 'bytes'>\n",
      "Wrong type:  <class 'bytes'>\n",
      "Wrong type:  <class 'bytes'>\n",
      "Wrong type:  <class 'bytes'>\n",
      "Wrong type:  <class 'bytes'>\n",
      "Wrong type:  <class 'bytes'>\n",
      "Wrong type:  <class 'bytes'>\n",
      "Wrong type:  <class 'bytes'>\n",
      "Wrong type:  <class 'bytes'>\n",
      "Wrong type:  <class 'bytes'>\n",
      "Wrong type:  <class 'bytes'>\n",
      "Wrong type:  <class 'bytes'>\n",
      "Wrong type:  <class 'bytes'>\n",
      "Wrong type:  <class 'bytes'>\n",
      "Wrong type:  <class 'bytes'>\n",
      "Wrong type:  <class 'bytes'>\n",
      "Wrong type:  <class 'bytes'>\n",
      "Wrong type:  <class 'bytes'>\n",
      "Wrong type:  <class 'bytes'>\n",
      "Wrong type:  <class 'bytes'>\n",
      "Wrong type:  <class 'bytes'>\n",
      "Wrong type:  <class 'bytes'>\n",
      "Wrong type:  <class 'bytes'>\n",
      "[1, 0, 0, 0, 1, 1, 1, 1, 1, 1, 0, 1, 1, 0, 1]\n",
      "['b\"The Groovy P. and I ventured to his old stomping grounds for lunch today.  The \\'5 and Diner\\' on 16th St and Colter left me with little to ask for.  Before coming here I had a preconceived notion that 5 & Diners were dirty and nasty. Not the case at all.\\\\\\\\n\\\\\\\\nWe walk in and let the waitress know we want to sit outside (since it\\'s so nice and they had misters).  We get two different servers bringing us stuff (talk about service) and I ask the one waitress for recommendations.  I didn\\'t listen to her, of course, and ordered the Southwestern Burger w/ coleslaw and started with a nice stack of rings.\\\\\\\\n\\\\\\\\nThe Onion Rings were perfectly cooked.  They looked like they were prepackaged, but they were very crispy and I could actually bite through the onion without pulling the entire thing out (don\\'t you hate that?!!!)\\\\\\\\n\\\\\\\\nThe Southwestern Burger was order Medium Rare and was cooked accordingly.  Soft, juicy, and pink with a nice crispy browned outer layer that can only be achieved on a well used grill.  The creaminess of the chipotle mayo paired beautifully with the green chiles.  Unfortunately, because I ate too many onion rings, I couldn\\'t finish my burger.  What a shame!\\\\\\\\n\\\\\\\\nThe Coleslaw was just how I like it.  It\\'s hard to find a really good coleslaw.  I prefer mine to be slightly sweet, not sour.  Too much vinegar in slaw ruins it in my opinion.  This slaw had the perfect marriage of mayo, vinegar, and sugar. Not to mention carrots...\\\\\\\\n\\\\\\\\nMy experience here was great!  The servers were top notch and kept my water full the entire time and actually chatted with us for a few minutes.\\\\\\\\n\\\\\\\\nThere is an artist guy named Ross who has been there every day for 5393 days straight. No, not an employee.  He goes there and does his art! He hasn\\'t missed a SINGLE day!!! That\\'s like... 15 years! So if you wanna seem to be \\'in the know\\' ask where Ross is... They\\'ll be able to tell you.\\\\\\\\n\\\\\\\\nTime for a nap!\"', 'b\"Mediocre burgers - if you are in the area and want a fast food burger, Fatburger is  a better bet than Wendy\\'s. But it is nothing to go out of your way for.\"', 'b\\'Not at all impressed...our server was not very happy to be there...food was very sub-par and it was way to crowded. Not the good kind I crowded where you feel like \\\\\\\\\"\"wow this is great it must be busy because the food is so great..\\\\\\\\\"\" But the type of crowded where you feel a fight may break out. Also, if the chocolate fountain is their golden gem...why is it ok for people to dip the strawberry,lick off the chocolate and re dip it right then and there...absolutely disgusting! I Waited almost 10 minutes to dip...saw that and was immediately turned away...just saying...Never again!\\'', 'b\"I wish I would have read Megan P\\'s review before I decided to cancel my dinner reservations because I was offered a COMP dinner at Beso.  \\\\\\\\n\\\\\\\\nTwo of my girlfriends and I were walking around Fashion Show Mall as a promoter approaches us to ask if we\\'d like to go to Eve Nightclub that night.  We wanted to go to Haze and XS so we declined.  The promoter (by the way - his name is ANDRE) offers us a comp dinner at Beso Eva Longoria\\'s restaurant at Crystals Mall.  I guess what\\'s the catch right?  Is there a comp limit and we have to pay after we hit the limit?  No, it\\'s a set dinner.  He sets everything up and promises he\\'ll even walk us into Haze and XS afterwards (which I actually believed).  \\\\\\\\n\\\\\\\\nHere\\'s a review for ANDRE:\\\\\\\\nHe tells you to call him when you\\'re at the restaurant to get you seated.  Well - he doesn\\'t even pick up or return text messages.  Basically, I never even see him again since he approached us at Fashion Show Mall.  He never came to give us our bottle of campagne that he promised either.  AND he never shows up to walk us into Haze or set us up for XS.  On top of that, he gave my number to other promoters (for LAVO) without letting me know.  I guess these promoters get paid by the number of girls they can pull but I\\'ve definitely dealt with more reliable promoters that actually keep their word.  \\\\\\\\n\\\\\\\\nHere\\'s a review for the MEAL:  \\\\\\\\nWe had a party of 9 girls.  We ordered cocktails ($15) and $4 (soda/iced tea/etc).  I ordered the Ginger Cosmo and I\\'d say I\\'d definitely not order that off the menu again.  (It was highly recommended by our waitress by the way!)  I didn\\'t think any of the drinks were that great as I sipped my friend\\'s drinks.  \\\\\\\\n\\\\\\\\nThe meal included the following:  (Keep in mind 9 GIRLS!!!)\\\\\\\\n1.  3 TINY portions of guac and chips.  Guac was OK but I\\'ve had better and I felt like the chips were a little stale.  \\\\\\\\n2.  2 plates of caesar salad.  I mean you can\\'t really go wrong with caesar salad but I don\\'t think the lettuce was very fresh. \\\\\\\\n3.  2 plates of steak and potatoes.  The portion on each plate was enough to probably feed 1 person so imagine 4 to 5 girls sharing the portion for 1 person.  I mean yes it\\'s Vegas and we want to look good in our dresses but we also want to eat so we don\\'t get wasted.  Yes, the steak was good - the whole 4 bites that I ate!  It\\'s literally 1 slice per person as it\\'s 5 pieces pre-cut.\\\\\\\\n\\\\\\\\nI\\'m sure this meal would have been better if we actually paid to dine at Beso but to be honest promoters should just tell people that it\\'s a comp taste sampling and to come eaten!  I was on my phone yelping the nearest fast food restaurant for us to eat more but this comp meal only takes reservations 9/9:30/10 (they just want you to go to Eve Club even if you don\\'t want to) so it doesn\\'t really allow time to eat meal #2 before trying to get into a club the promoter promised to walk you right in but goes MIA.  I definitely would have rather paid to eat elsewhere and I will probably never step foot into Beso again.  \\\\\\\\n\\\\\\\\nYou win this time but I hope I win in the long run with this yelp review.\"', \"b'A large selection of food from all over the world. Great atmosphere and ambiance.  Quality of food is on par with a 5 star hotel. But did not have lobster and king crab that I was expecting for this kind of price.'\", \"b'I know, I know a review for Subway, come on.  But I have to say that the service at this subway is top notch.  The staff is very friendly and always goes out of there way to say hello.  It is highly appreciated.  The food is pretty standard Subway fare.  Not too much to say there, but I will be be back again on my lunch breaks.'\", 'b\"We came in for a pre-bachelor party madness meal and I have to say it was one of the best dining experiences I\\'ve ever had. \\\\\\\\n\\\\\\\\nStarted with some cocktails and their fried flat bread with dipping sauces to soak it up. Next we did a dozen oysters. For the main course we split the 32.oz steak, in my top five steaks of all time, a split order of king crab legs and lobster tail. All of it was amazing. It came with a side of mashed potato goodness and we threw in the broccoli. It was all fantastic, each bite was better than the last. \\\\\\\\n\\\\\\\\nOur server was incredible, really above and beyond the call of duty. The manager came by for a nice chat and we gushed about the food and the staff. \\\\\\\\n\\\\\\\\nThis was by far the best meal I\\'ve had in Las Vegas and I\\'ve had them all.\"', 'b\"Cheap and delicious! I eat here about once a week because it fills me up for cheap price and the people who work there are really fun. it\\'s like a subway sandwich restaurant for Mexican food. I love the burrito w/ Cheese, Beans & rice w/ sour cream, less than $5 and best in town for that price\"', \"b'As good as it gets for a Vegas buffet. Better than all the other buffets out there on the strip.  The weekend seafood buffet which also includes beer and wine is only $26!  Will be going back for sure!  =D'\", 'b\"Pittsburgh Bound!  Part X\\\\\\\\n\\\\\\\\n(For Part IX, go to: http://www.yelp.com/biz/stamoolis-brothers-company-pittsburgh?hrid=8hA8rRHss2PRlroWujzT_Q)\\\\\\\\n\\\\\\\\nThe Sunseri name is famous in Pittsburgh, and although their small alcove of Italian meats and bread is one of the smaller storefronts in the Strip, their pepperoni bread is melt in your mouth, filled with great mozzarella cheese.  I grabbed a loaf and we picked at it while we walked around.  My mom and I inhaled half of it without blinking an eye.\\\\\\\\n\\\\\\\\nIf you are going to get a loaf of Sunseri\\'s pepperoni bread, I would suggest not doing it on an empty stomach.\\\\\\\\n\\\\\\\\n(For Part XI, go to: http://www.yelp.com/biz/primanti-brothers-pittsburgh?hrid=k97SGRvnhBMrHzqofs1WNg)\"', \"b'I am so disappointed in my recent experience with this thai restaurants. I discovered this place on yelp and noticed the high reviews it had but only 12 people reviewed this place. So I decided to give it the my benefit of the doubt. While service was very nice and attentive it cannot get all it star for just the service. When I enter Baan Mae Toy, my guest and I noticed that it was empty and no one was dining at the restaurant beside us. \\\\\\\\n\\\\\\\\nThe Thai Style Ice Tea was decent. We ordered the fish cake, pad kee-mao and chicken pad thai.The fish cake cost $7.95 and it came out really greasy. It seem like they just pulled it out of the fryer and served it to the guest. The fish cake itself lacked favor and seem like it needed a dipping sauce. The grease itself was a turn off and we did not finish eating the dish. It was the appetizer so maybe the chief will be on his/her A game during the meal. We ordered the pad kee-mao and chicken pad thai. The pad kee-mao was really nothing to rave about but it was more decent than the tradition pad thai. The Chicken Pad Thai was extremely sour. It might have been the sauce on the overall dish. It left this really bad after taste in your mouth that need water to wash away. This is probably the worst Pad Thai, that I had tried and I was unable to finish my dish. I definitely  will avoid this place in the future and probably go back to Thai Style Noodle House.'\", 'b\"I\\'m seriously obsessed with this place. Whenever I come to Vegas I make my friends go with me like 5 times. The chicken salad is the best ever. And I saw someone say that she was upset that her bread was so thick but they slice each piece as they need it and there\\'s a sign that says to ask for your bread sliced thin so if that\\'s what you\\'re about, just ask them.\"', \"b'Belle terrasse et tr\\\\\\\\u00e8s bonne adresse pour f\\\\\\\\u00eater la St Patrick !'\", \"b'Loud!  Music is loud...pumps are loud...too much going on.  Can I just get a tank of gas?!'\", 'b\"One of the best terrasses in  the city in the summer. Mind blowing how it is always packed.  All summer you could grill your own meat  on the BBQ, hope they bring it back. In the mean time if you are a fan of Lucky\\'s food truck they have partnered up Tuesdays to Saturdays 5-10pm  so you can get great food truck food with the luxury of walls and a roof and tables. Great Bartenders ready to try  new things  and are not afraid to  use cassis.  Mostly francophone crowd but anglos are never given the cold shoulder. Always something new  going on with well thought out awesome events like artist events, rockabily night, and of course comedy; yeah  they do that do . Make sure you make it downstairs for a whole  different scene on the weekends, most people wouldn\\'t know there was anything down there as during the day there is this big mysterious  door thats closed.  Almost a guarenteed goodtime as long as you are down to earth and have an open mind.\"']\n"
     ]
    }
   ],
   "source": [
    "isinstance(ds_train, tf.data.Dataset)\n",
    "labels = []\n",
    "texts = []\n",
    "i = 0\n",
    "\n",
    "for text, label in tfds.as_numpy(ds_train):  # example is `{'image': tf.Tensor, 'label': tf.Tensor}`\n",
    "  texts.append(str(text))\n",
    "  if type(text) != str:\n",
    "      print(\"Wrong type: \", type(text))\n",
    "  labels.append(label)\n",
    "  i += 1\n",
    "  if i == 1000:\n",
    "      break\n",
    "\n",
    "print(labels[:15])\n",
    "print(texts[:15])\n",
    "\n",
    "train_tokenizer = tokenizer(texts, truncation=True, padding=True)"
   ]
  },
  {
   "cell_type": "markdown",
   "metadata": {
    "id": "8xaGqCcEs9yB"
   },
   "source": [
    "## Task 2.5\n",
    "Evaluate your model, following the evaluation protocol you defined in Theory Question 1, on the test part of the Yelp Review Polarity data set."
   ]
  },
  {
   "cell_type": "code",
   "execution_count": null,
   "metadata": {
    "id": "pdqnnJaGs9yC"
   },
   "outputs": [],
   "source": []
  },
  {
   "cell_type": "markdown",
   "metadata": {
    "id": "yEibR93Hs9yC"
   },
   "source": [
    "# Task 3\n",
    "Visualize and interpret the attention weights of one correctly and one of the incorrectly classified examples of the Yelp Review Polarity test data using [BertViz](https://github.com/jessevig/bertviz)'s model_view."
   ]
  },
  {
   "cell_type": "code",
   "execution_count": null,
   "metadata": {
    "id": "J1YPLr3cs9yC"
   },
   "outputs": [],
   "source": []
  },
  {
   "cell_type": "markdown",
   "metadata": {
    "id": "bm05PFcMs9yD"
   },
   "source": [
    "## Theory Question 2\n",
    "In your own words, describe how the attention mechanism in a transformer works in the case of self-attention and cross-attention, identifying in each case the keys, queries, and values. Give two examples of alignment models and describe how they affect the output using a simple example. This part of the written report can be done in collaboration with your group."
   ]
  },
  {
   "cell_type": "code",
   "execution_count": null,
   "metadata": {
    "id": "nDj5j60Rs9yD"
   },
   "outputs": [],
   "source": []
  },
  {
   "cell_type": "markdown",
   "metadata": {
    "id": "1u-8cqs0s9yD"
   },
   "source": [
    "# Task 4\n",
    "Please describe your team's implementation of this project, including your personal contribution, in 1000-1500 characters. Each team member must explain the main aspects of the team's implementation, and may not discuss this summary with other students. You are allowed to use figures and tables to clarify. This summary constitutes a separately and individually graded piece of work."
   ]
  },
  {
   "cell_type": "code",
   "execution_count": null,
   "metadata": {
    "id": "U7FJBhNPs9yE"
   },
   "outputs": [],
   "source": []
  }
 ],
 "metadata": {
  "colab": {
   "provenance": []
  },
  "kernelspec": {
   "display_name": "base",
   "language": "python",
   "name": "python3"
  },
  "language_info": {
   "codemirror_mode": {
    "name": "ipython",
    "version": 3
   },
   "file_extension": ".py",
   "mimetype": "text/x-python",
   "name": "python",
   "nbconvert_exporter": "python",
   "pygments_lexer": "ipython3",
   "version": "3.10.9"
  },
  "vscode": {
   "interpreter": {
    "hash": "f94a2e1669021a1b826617800504e937bcc4e1c8d0dde6e9bfebb8455f6fae62"
   }
  }
 },
 "nbformat": 4,
 "nbformat_minor": 0
}