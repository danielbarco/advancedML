{
  "cells": [
    {
      "cell_type": "markdown",
      "metadata": {
        "id": "_eSNCOQgs9xZ"
      },
      "source": [
        "<h1><center>\n",
        "    Implementing, fine-tuning and visualizing transformer architectures. <br/>\n",
        "  \n",
        "    \n",
        "    Project 1\n",
        "</center></h1>"
      ]
    },
    {
      "cell_type": "markdown",
      "metadata": {
        "id": "BgsVYaLIs9xc"
      },
      "source": [
        "# Task 1\n",
        "Implement the feed-forward pass of the original transformer network using only numpy, i.e. without machine learning frameworks.\n",
        "\n",
        "Note: All subtasks are voluntary and rather a guide-line of how we would implement the forward pass. You can also choose a different order for implementing the different parts or implement everything in one class/function. The forward pass should return an numpy array.\n",
        "\n",
        "Please initialize the weights using Glorot initialization."
      ]
    },
    {
      "cell_type": "code",
      "execution_count": 3,
      "metadata": {
        "id": "Ze8oZK4Ss9xe"
      },
      "outputs": [],
      "source": [
        "# You will test your implementation on a single array:\n",
        "import numpy as np\n",
        "forward_pass_array = np.array([101, 400, 500, 600, 107, 102])\n"
      ]
    },
    {
      "cell_type": "code",
      "execution_count": 4,
      "metadata": {},
      "outputs": [],
      "source": [
        "def initialise_glorot_weights(y_rows, x_cols):\n",
        "    \"\"\"\n",
        "    Initialise the weights of a layer with Glorot normal initialisation.\n",
        "    \n",
        "    :param input_size: The number of inputs to the layer.\n",
        "    :type input_size: int\n",
        "    :param output_size: The number of outputs of the layer.\n",
        "    :type output_size: int\n",
        "    :return: The initialised weights.\n",
        "    :rtype: np.ndarray\n",
        "    \"\"\"\n",
        "    return np.random.normal(loc=0.0, scale=np.sqrt(2.0 / (y_rows + x_cols)), size=(y_rows, x_cols, ))"
      ]
    },
    {
      "cell_type": "code",
      "execution_count": 5,
      "metadata": {},
      "outputs": [
        {
          "data": {
            "text/plain": [
              "(1000, 512)"
            ]
          },
          "execution_count": 5,
          "metadata": {},
          "output_type": "execute_result"
        }
      ],
      "source": [
        "# token embedding matrix 1000x512 random floats golorot normal\n",
        "word_embeddings = initialise_glorot_weights(1000, 512)\n",
        "word_embeddings.shape"
      ]
    },
    {
      "cell_type": "code",
      "execution_count": 6,
      "metadata": {},
      "outputs": [
        {
          "data": {
            "text/plain": [
              "array([[ 0.04409097, -0.02700203, -0.07421901, ...,  0.00446916,\n",
              "        -0.05921604,  0.02454775],\n",
              "       [ 0.00381429, -0.05408008,  0.00471897, ...,  0.01493608,\n",
              "        -0.04431106, -0.05928577],\n",
              "       [-0.04071398, -0.00987654,  0.07961366, ...,  0.02301852,\n",
              "        -0.00507514,  0.00774213],\n",
              "       ...,\n",
              "       [-0.00769232, -0.02516213, -0.05376621, ...,  0.00090064,\n",
              "        -0.00996923, -0.02999349],\n",
              "       [-0.04822289, -0.06075608,  0.02225428, ...,  0.0215591 ,\n",
              "         0.018413  ,  0.01055202],\n",
              "       [ 0.00349858,  0.01830355,  0.02975606, ...,  0.01094501,\n",
              "        -0.00172128, -0.00616571]])"
            ]
          },
          "execution_count": 6,
          "metadata": {},
          "output_type": "execute_result"
        }
      ],
      "source": [
        "word_embeddings"
      ]
    },
    {
      "cell_type": "code",
      "execution_count": 7,
      "metadata": {},
      "outputs": [],
      "source": [
        "selected_embeddings = word_embeddings[forward_pass_array]"
      ]
    },
    {
      "cell_type": "markdown",
      "metadata": {
        "id": "GHgV0NL0s9xg"
      },
      "source": [
        "## Task 1.1\n",
        "Implement the sinus/cosinus positional encoding used in the original paper [Attention Is All You Need](https://arxiv.org/abs/1706.03762). Implement the token embedding."
      ]
    },
    {
      "cell_type": "code",
      "execution_count": 8,
      "metadata": {
        "id": "9XQOngbhs9xh"
      },
      "outputs": [],
      "source": [
        "def positional_encoding(positions:list, embeddings:list, d_model:int = 512):\n",
        "    \"\"\"\n",
        "    returns a matrix\n",
        "    pos is the position, embeddings is a vector and d_model is the model dimension\n",
        "    we use sine and cosine functions of different frequencies\n",
        "\n",
        "    :param pos: position aka t \n",
        "    :type pos: list\n",
        "    :param embeddings: size of the embedding\n",
        "    :type i: list\n",
        "    :param d_model: model dimensions\n",
        "    :type d_model: int\n",
        "    \"\"\"\n",
        "    result_matrix = np.zeros((len(positions), len(embeddings)))\n",
        "    for pos in range(len(positions)):\n",
        "        for i in range(len(embeddings)):\n",
        "            if i % 2 == 0:\n",
        "                result_matrix[pos,i] = np.sin(pos / (10000 ** (i / d_model)))\n",
        "            else:\n",
        "                result_matrix[pos,i] = np.cos(pos / (10000 ** ((i - 1) / d_model)))\n",
        "    return result_matrix\n",
        "\n",
        "# Now we can create the positional encoding matrix\n",
        "\n",
        "\n",
        "positional_encoding_matrix = positional_encoding(selected_embeddings, selected_embeddings[0], len(selected_embeddings[0]))"
      ]
    },
    {
      "cell_type": "code",
      "execution_count": 9,
      "metadata": {},
      "outputs": [
        {
          "data": {
            "text/plain": [
              "array([[ 0.00000000e+00,  1.00000000e+00,  0.00000000e+00, ...,\n",
              "         1.00000000e+00,  0.00000000e+00,  1.00000000e+00],\n",
              "       [ 8.41470985e-01,  5.40302306e-01,  8.21856190e-01, ...,\n",
              "         9.99999994e-01,  1.03663293e-04,  9.99999995e-01],\n",
              "       [ 9.09297427e-01, -4.16146837e-01,  9.36414739e-01, ...,\n",
              "         9.99999977e-01,  2.07326584e-04,  9.99999979e-01],\n",
              "       [ 1.41120008e-01, -9.89992497e-01,  2.45085415e-01, ...,\n",
              "         9.99999948e-01,  3.10989874e-04,  9.99999952e-01],\n",
              "       [-7.56802495e-01, -6.53643621e-01, -6.57166863e-01, ...,\n",
              "         9.99999908e-01,  4.14653159e-04,  9.99999914e-01],\n",
              "       [-9.58924275e-01,  2.83662185e-01, -9.93854779e-01, ...,\n",
              "         9.99999856e-01,  5.18316441e-04,  9.99999866e-01]])"
            ]
          },
          "execution_count": 9,
          "metadata": {},
          "output_type": "execute_result"
        }
      ],
      "source": [
        "positional_encoding_matrix"
      ]
    },
    {
      "cell_type": "code",
      "execution_count": 10,
      "metadata": {},
      "outputs": [
        {
          "data": {
            "text/plain": [
              "(6, 512)"
            ]
          },
          "execution_count": 10,
          "metadata": {},
          "output_type": "execute_result"
        }
      ],
      "source": [
        "positional_encoding_matrix.shape"
      ]
    },
    {
      "attachments": {},
      "cell_type": "markdown",
      "metadata": {
        "id": "Axt_BqrJs9xh"
      },
      "source": [
        "## Task 1.2\n",
        "Implement a dense layer with the number of hidden units as an argument."
      ]
    },
    {
      "cell_type": "code",
      "execution_count": 11,
      "metadata": {},
      "outputs": [],
      "source": [
        "def dense_layer(X:np.array, hidden_units:int):\n",
        "    \"\"\"\n",
        "    Input and output matrices are of same dimension\n",
        "    Single dense layer with a specified number of hidden units\n",
        "\n",
        "\n",
        "    :param X: input matrix\n",
        "    :type X: np.array\n",
        "    :param hidden_units: number of hidden units\n",
        "    :type hidden_units: int\n",
        "    \"\"\"\n",
        "    input_dim = X.shape[1]\n",
        "    \n",
        "    # golorot normal initialization of the weights\n",
        "    weight = initialise_glorot_weights(input_dim, hidden_units )\n",
        "\n",
        "    bias = np.zeros(hidden_units)\n",
        "    \n",
        "    # we use the dot product to calculate the output of the layer\n",
        "    return np.matmul(X, weight) + bias"
      ]
    },
    {
      "cell_type": "code",
      "execution_count": 12,
      "metadata": {},
      "outputs": [
        {
          "data": {
            "text/plain": [
              "(6, 512)"
            ]
          },
          "execution_count": 12,
          "metadata": {},
          "output_type": "execute_result"
        }
      ],
      "source": [
        "dense_output = dense_layer(positional_encoding_matrix, 512)\n",
        "dense_output.shape"
      ]
    },
    {
      "cell_type": "markdown",
      "metadata": {
        "id": "UsSfCiNKs9xj"
      },
      "source": [
        "## Task 1.3\n",
        "Implement all activation function such that they are compatible with the dense layer."
      ]
    },
    {
      "cell_type": "code",
      "execution_count": 13,
      "metadata": {
        "id": "tg6qEQPws9xk"
      },
      "outputs": [],
      "source": [
        "# Implement all activation function such that they are compatible with the dense layer.\n",
        "def activation(hidden_layer:np.array):\n",
        "    \"\"\" Relu activation\n",
        "\n",
        "    :param hidden_layer: hidden layer for activation\n",
        "    :type hidden_layer: np.array\n",
        "    :param activation: ReLU activated hidden layer\n",
        "    :type activation: np.array\n",
        "    \"\"\"\n",
        "    # Implement the relu activation function\n",
        "    return np.maximum(0, hidden_layer)"
      ]
    },
    {
      "cell_type": "code",
      "execution_count": 14,
      "metadata": {},
      "outputs": [
        {
          "data": {
            "text/plain": [
              "array([[0.        , 0.        , 0.        , ..., 0.89315091, 0.        ,\n",
              "        0.35481599],\n",
              "       [0.        , 0.        , 0.        , ..., 0.8713884 , 0.        ,\n",
              "        0.34567492],\n",
              "       [0.        , 0.10144852, 0.        , ..., 0.79430578, 0.03007131,\n",
              "        0.28977359],\n",
              "       [0.        , 0.2415033 , 0.        , ..., 0.66344587, 0.13443934,\n",
              "        0.25647163],\n",
              "       [0.        , 0.26525826, 0.        , ..., 0.53488472, 0.03931902,\n",
              "        0.28338965],\n",
              "       [0.        , 0.17352577, 0.        , ..., 0.47971578, 0.        ,\n",
              "        0.34007707]])"
            ]
          },
          "execution_count": 14,
          "metadata": {},
          "output_type": "execute_result"
        }
      ],
      "source": [
        "activation(dense_output)"
      ]
    },
    {
      "cell_type": "markdown",
      "metadata": {
        "id": "3Lyam5O3s9xl"
      },
      "source": [
        "## Task 1.4\n",
        "Implement the skip (residual) connections."
      ]
    },
    {
      "cell_type": "code",
      "execution_count": 15,
      "metadata": {
        "id": "JeaLA_N5s9xn"
      },
      "outputs": [],
      "source": [
        "#Implement the skip (residual) connections.\n",
        "def skip_connections(hidden_layer, input_layer):\n",
        "    \"\"\"Skip connection \n",
        "\n",
        "    :param hidden_layer: _description_\n",
        "    :type hidden_layer: _type_\n",
        "    :param input_layer: _description_\n",
        "    :type input_layer: _type_\n",
        "    \"\"\"\n",
        "    return hidden_layer + input_layer"
      ]
    },
    {
      "cell_type": "markdown",
      "metadata": {
        "id": "c8cryIa1s9xn"
      },
      "source": [
        "## Task 1.5\n",
        "Implement layer normalization."
      ]
    },
    {
      "cell_type": "code",
      "execution_count": 16,
      "metadata": {
        "id": "gyYe-KH3s9xo"
      },
      "outputs": [],
      "source": [
        "# Implement layer normalization.\n",
        "def normalisation_layer(hidden_layer, mean, variance):\n",
        "    \"\"\" check the dimensionality should be normalised over all values \n",
        "    instead of columns wise normalisation used in batch normalisation\n",
        "\n",
        "    :param hidden_layer: _description_\n",
        "    :type hidden_layer: _type_\n",
        "    :param mean: _description_\n",
        "    :type mean: _type_\n",
        "    :param variance: _description_\n",
        "    :type variance: _type_\n",
        "    \"\"\"\n",
        "    # Implement the layer normalization\n",
        "    mean = np.mean(hidden_layer, axis=1, keepdims=True)\n",
        "    variance = np.var(hidden_layer, axis=1, keepdims=True)\n",
        "    return (hidden_layer - mean) / np.sqrt(variance + 1e-8)"
      ]
    },
    {
      "cell_type": "markdown",
      "metadata": {
        "id": "eKIJqC2us9xp"
      },
      "source": [
        "## Task 1.6\n",
        "Implement dropout."
      ]
    },
    {
      "cell_type": "code",
      "execution_count": 17,
      "metadata": {
        "id": "RUhGgH_qs9xq"
      },
      "outputs": [],
      "source": [
        "# Implement dropout\n",
        "def dropout(hidden_layer, dropout_rate):\n",
        "    \"\"\"dropout \n",
        "\n",
        "    :param hidden_layer: _description_\n",
        "    :type hidden_layer: _type_\n",
        "    :param dropout_rate: _description_\n",
        "    :type dropout_rate: _type_\n",
        "    \"\"\"\n",
        "    # Implement the dropout\n",
        "    return hidden_layer * np.random.binomial(1, 1 - dropout_rate, size=hidden_layer.shape)\n"
      ]
    },
    {
      "cell_type": "markdown",
      "metadata": {
        "id": "wtCKnQJys9xy"
      },
      "source": [
        "## Task 1.7\n",
        "Implement the attention mechanism."
      ]
    },
    {
      "cell_type": "code",
      "execution_count": 34,
      "metadata": {},
      "outputs": [],
      "source": [
        "def softmax(input_matrix):\n",
        "    \"\"\"Softmax activation\n",
        "\n",
        "    :param input_matrix: Input matrix\n",
        "    :type input_matrix: np.array\n",
        "    \"\"\"\n",
        "    # Implement the softmax function\n",
        "    return np.exp(input_matrix) / np.sum(np.exp(input_matrix), axis=1, keepdims=True)\n",
        " \n",
        "def attention(query, key, value, mask=None, dropout=None):\n",
        "    \"\"\"Compute 'Scaled Dot Product Attention'\n",
        "\n",
        "    :param query: query matrix resulting from the dot product of the x and the query weights\n",
        "    :type query: np.array\n",
        "    :param key: key matrix resulting from the dot product of the x and the key weights\n",
        "    :type key: np.array\n",
        "    :param value: value matrix resulting from the dot product of the x and the value weights\n",
        "    :type value: np.array\n",
        "    :param mask: boolean mask, defaults to None\n",
        "    :type mask: boolen, optional\n",
        "    :param dropout: boolean dropout, defaults to None\n",
        "    :type dropout: boolen, optional\n",
        "    :return: output of shape (seq_len, d_model).\n",
        "    :rtype: np.array\n",
        "    \"\"\"    \"\"\"\"\"\"\n",
        "    # Implement the attention mechanism\n",
        "    dimension_k = key.shape[1]\n",
        "    return np.matmul(softmax(np.matmul(query, key.T) / np.sqrt(dimension_k)), value)\n",
        "\n",
        "# def decoder_mask(input_matrix:np.ndarray):\n",
        "#     \"\"\"mask the attention to the decoder so that the model does not cheat by looking ahead in the sequence.\n",
        "\n",
        "#     :param input_matrix: the output of the attion mechanism\n",
        "#     :type input_matrix: np.ndarray\n",
        "#     \"\"\"    \n",
        "#     attn_shape = input_matrix.shape\n",
        "#     subsequent_mask = np.triu(np.ones(attn_shape), k=1).astype('uint8')\n",
        "#     masked_scores = input_matrix[subsequent_mask == -np.inf].reshape(attn_shape)\n",
        "#     print('masked_scores', masked_scores.shape)\n",
        "#     return masked_scores\n",
        "\n",
        "\n",
        "# def mask_attention_scores(scores):\n",
        "#     \"\"\"\n",
        "#     Apply a mask to attention scores.\n",
        "\n",
        "#     :param scores: Attention scores of shape (num_heads, seq_len, seq_len).\n",
        "#     :type scores: np.array\n",
        "#     :returns: Masked attention scores of shape (num_heads, seq_len, seq_len).\n",
        "#     \"\"\"\n",
        "#     # Implement masking\n",
        "#     # Create a mask with 0s in positions to be masked\n",
        "#     mask = np.triu(np.ones(scores.shape), k=1)\n",
        "#     print(mask.shape)\n",
        "#     mask_value = -np.inf\n",
        "#     # Set masked positions to mask_value\n",
        "#     masked_scores = np.where(mask == 0, mask_value, scores)\n",
        "#     print('masked_scores', masked_scores.shape)\n",
        "#     return masked_scores\n",
        "\n",
        "def mask_attention_scores(scores, mask_value=-np.inf):\n",
        "    \"\"\"\n",
        "    Apply a mask to attention scores.\n",
        "\n",
        "    :param scores: Attention scores of shape (num_heads, seq_len, seq_len).\n",
        "\n",
        "    :returns: Masked attention scores of shape (num_heads, seq_len, seq_len).\n",
        "    \"\"\"\n",
        "    # Create mask of shape (seq_len, seq_len)\n",
        "    attn_shape = scores.shape\n",
        "    mask = np.tril(np.ones(attn_shape), k=0)\n",
        "\n",
        "    # Set masked positions to mask_value\n",
        "    masked_scores = np.where(mask == 0, mask_value, scores)\n",
        "    # print('masked_scores', masked_scores.shape)\n",
        "    return masked_scores\n",
        "\n",
        "\n",
        "\n",
        "\n",
        "# implement a multi-head attention layer\n",
        "def multihead_attention(query, key, value, mask:bool = None, num_heads:int = 8):\n",
        "    \"\"\"\n",
        "    Compute multihead self-attention given query, key, and value matrices.\n",
        "\n",
        "    :param query: Query matrix of shape (seq_len, d_model).\n",
        "    :param key: Key matrix of shape (seq_len, d_model).\n",
        "    :param value: Value matrix of shape (seq_len, d_model).\n",
        "    :param d_model: Model dimensionality.\n",
        "    :param num_heads: Number of heads for attention.\n",
        "\n",
        "    :returns: Output of multihead attention of shape (seq_len, d_model).\n",
        "    \"\"\"\n",
        "\n",
        "    # Split matrices into multiple heads\n",
        "    query_heads = np.array(np.split(query, num_heads, axis=1))\n",
        "    key_heads = np.array(np.split(key, num_heads, axis=1))\n",
        "    value_heads = np.array(np.split(value, num_heads, axis=1))\n",
        "        \n",
        "    # print(query_heads.shape)\n",
        "    \n",
        "\n",
        "    # Compute scaled dot product attention for each head\n",
        "    head_outputs = []\n",
        "    for i in range(num_heads):\n",
        "        query_i = query_heads[i]\n",
        "        key_i = key_heads[i]\n",
        "        value_i = value_heads[i]\n",
        "\n",
        "        # Compute attention scores\n",
        "        attention_scores = attention(query_i, key_i, value_i)\n",
        "\n",
        "        if mask:\n",
        "            attention_scores = mask_attention_scores(attention_scores)\n",
        "\n",
        "        head_outputs.append(attention_scores)\n",
        "\n",
        "    # Concatenate head outputs and project back to original dimensionality\n",
        "    outputs = np.concatenate(head_outputs, axis=-1)\n",
        "    \n",
        "    # W = np.random.randn(d_model, d_model)\n",
        "    # outputs = np.matmul(outputs, W)\n",
        "\n",
        "    return outputs\n",
        "    "
      ]
    },
    {
      "cell_type": "code",
      "execution_count": 35,
      "metadata": {},
      "outputs": [
        {
          "data": {
            "text/plain": [
              "(6, 512)"
            ]
          },
          "execution_count": 35,
          "metadata": {},
          "output_type": "execute_result"
        }
      ],
      "source": [
        "positional_encoding_matrix.shape"
      ]
    },
    {
      "cell_type": "code",
      "execution_count": 36,
      "metadata": {},
      "outputs": [
        {
          "name": "stdout",
          "output_type": "stream",
          "text": [
            "(6, 512)\n"
          ]
        },
        {
          "data": {
            "text/plain": [
              "array([[ 0.09182619, -0.45988009,  1.00113387, ..., -1.60261303,\n",
              "        -0.21482033,  0.15834271],\n",
              "       [ 0.08918102, -0.45929555,  0.99976296, ..., -1.6138145 ,\n",
              "        -0.21079196,  0.15616113],\n",
              "       [ 0.08764664, -0.45834671,  0.99691149, ..., -1.64259955,\n",
              "        -0.1964173 ,  0.15150594],\n",
              "       [ 0.08691898, -0.45730619,  0.99354035, ..., -1.67735684,\n",
              "        -0.17632225,  0.1463881 ],\n",
              "       [ 0.08625428, -0.45647835,  0.9908641 , ..., -1.70451307,\n",
              "        -0.15819318,  0.14282675],\n",
              "       [ 0.08510833, -0.4560563 ,  0.98967823, ..., -1.71619272,\n",
              "        -0.149116  ,  0.14157516]])"
            ]
          },
          "execution_count": 36,
          "metadata": {},
          "output_type": "execute_result"
        }
      ],
      "source": [
        "query_weights, key_weights, value_weights = initialise_glorot_weights(512, 512), initialise_glorot_weights(512, 512), initialise_glorot_weights(512, 512)\n",
        "query, key, value = np.matmul(positional_encoding_matrix, query_weights), np.matmul(positional_encoding_matrix, key_weights), np.matmul(positional_encoding_matrix, value_weights)\n",
        "attention_output = multihead_attention(query, key, value)\n",
        "print(attention_output.shape)\n",
        "attention_output"
      ]
    },
    {
      "cell_type": "code",
      "execution_count": 40,
      "metadata": {},
      "outputs": [
        {
          "name": "stdout",
          "output_type": "stream",
          "text": [
            "(5, 512)\n"
          ]
        },
        {
          "data": {
            "text/plain": [
              "array([[ 0.09182619,        -inf,        -inf, ...,        -inf,\n",
              "               -inf,        -inf],\n",
              "       [ 0.08764664, -0.45834671,        -inf, ...,        -inf,\n",
              "               -inf,        -inf],\n",
              "       [ 0.08691898, -0.45730619,  0.99354035, ...,        -inf,\n",
              "               -inf,        -inf],\n",
              "       [ 0.08625428, -0.45647835,  0.9908641 , ...,        -inf,\n",
              "               -inf,        -inf],\n",
              "       [ 0.08510833, -0.4560563 ,  0.98967823, ...,        -inf,\n",
              "               -inf,        -inf]])"
            ]
          },
          "execution_count": 40,
          "metadata": {},
          "output_type": "execute_result"
        }
      ],
      "source": [
        "\n",
        "# drop one row of the query matrix\n",
        "query_reduced = np.delete(query, 1, 0)\n",
        "attention_masked = multihead_attention(query_reduced, key, value, mask=True)\n",
        "print(attention_masked.shape)\n",
        "attention_masked"
      ]
    },
    {
      "cell_type": "markdown",
      "metadata": {
        "id": "yApJ-i6Ws9x0"
      },
      "source": [
        "## Task 1.8\n",
        "Implement the positonal feed-forward network."
      ]
    },
    {
      "cell_type": "code",
      "execution_count": null,
      "metadata": {
        "id": "PgOD1435s9x1"
      },
      "outputs": [],
      "source": []
    },
    {
      "cell_type": "markdown",
      "metadata": {
        "id": "OhyAVEIas9x1"
      },
      "source": [
        "## Task 1.9\n",
        "Implement the encoder attention."
      ]
    },
    {
      "cell_type": "code",
      "execution_count": null,
      "metadata": {
        "id": "KhVWrtbls9x1"
      },
      "outputs": [],
      "source": []
    },
    {
      "cell_type": "markdown",
      "metadata": {
        "id": "J4lA-qajs9x2"
      },
      "source": [
        "## Task 1.10\n",
        "Implement the encoder."
      ]
    },
    {
      "cell_type": "code",
      "execution_count": null,
      "metadata": {
        "id": "XnDRK_aPs9x2"
      },
      "outputs": [],
      "source": []
    },
    {
      "cell_type": "markdown",
      "metadata": {
        "id": "RzqspeJ4s9x2"
      },
      "source": [
        "## Task 1.11\n",
        "Implement the decoder attention."
      ]
    },
    {
      "cell_type": "code",
      "execution_count": null,
      "metadata": {
        "id": "YEgfyNvNs9x3"
      },
      "outputs": [],
      "source": []
    },
    {
      "cell_type": "markdown",
      "metadata": {
        "id": "1lOPMNIps9x3"
      },
      "source": [
        "## Task 1.12\n",
        "Implement the encoder-decoder attention."
      ]
    },
    {
      "cell_type": "code",
      "execution_count": null,
      "metadata": {
        "id": "lLQ8aRPTs9x3"
      },
      "outputs": [],
      "source": []
    },
    {
      "cell_type": "markdown",
      "metadata": {
        "id": "GZW9JEaUs9x4"
      },
      "source": [
        "## Task 1.13\n",
        "Implement the decoder."
      ]
    },
    {
      "cell_type": "code",
      "execution_count": null,
      "metadata": {
        "id": "3bQZWQrns9x4"
      },
      "outputs": [],
      "source": []
    },
    {
      "cell_type": "markdown",
      "metadata": {
        "id": "MtPOUkLRs9x4"
      },
      "source": [
        "## Task 1.14\n",
        "Implement the transformer architecture (e.g. by creating a Transformer class that includes the steps before)."
      ]
    },
    {
      "cell_type": "code",
      "execution_count": 15,
      "metadata": {
        "id": "VEtaTIR_s9x5"
      },
      "outputs": [
        {
          "ename": "SyntaxError",
          "evalue": "incomplete input (1776112302.py, line 2)",
          "output_type": "error",
          "traceback": [
            "\u001b[0;36m  Cell \u001b[0;32mIn[15], line 2\u001b[0;36m\u001b[0m\n\u001b[0;31m    \u001b[0m\n\u001b[0m    ^\u001b[0m\n\u001b[0;31mSyntaxError\u001b[0m\u001b[0;31m:\u001b[0m incomplete input\n"
          ]
        }
      ],
      "source": [
        "class Transformer():\n",
        "    "
      ]
    },
    {
      "cell_type": "markdown",
      "metadata": {
        "id": "ARMrtlX-s9x5"
      },
      "source": [
        "## Task 1.15\n",
        "Test the forward pass using the follow array."
      ]
    },
    {
      "cell_type": "code",
      "execution_count": null,
      "metadata": {
        "id": "XVwUBmyqs9x6"
      },
      "outputs": [],
      "source": [
        "forward_pass_array = np.array([101, 400, 500, 600, 107, 102])\n",
        "Transformer(forward_pass_array)"
      ]
    },
    {
      "cell_type": "markdown",
      "metadata": {
        "id": "cbVQhmTVs9x6"
      },
      "source": [
        "# Task 2"
      ]
    },
    {
      "cell_type": "markdown",
      "metadata": {
        "id": "5a8mqbvis9x7"
      },
      "source": [
        "In the following, we want to use pretrained models. From here on, you are allowed to use any machine learning frame work of your choice. Moreover, you will use [Hugging Face](https://huggingface.co/) which is compatible with tensorflow, keras, torch and other machine learning frameworks.\n",
        "\n",
        "We want to fine-tune a pretrained model to determine whether Yelp reviews are positive or negative. The data set is available for [Tensorflow](https://www.tensorflow.org/datasets/catalog/yelp_polarity_reviews) and [(py)torch](https://pytorch.org/text/stable/datasets.html#yelpreviewpolarity). Given the text of a review, we want to determine whether the yelp review is positive and negative. The data set is pre-split into training and test set. Please use the training data to fine-tune your model, while using the test data to evaluate your models performance. This exercise does not necessarily end in having a SOTA model, the goal is for you to use and fine-tune SOTA pretrained large language models.\n",
        "\n",
        "Problem Setting:\n",
        "\n",
        "The label $y$ to a Yelp review $T$ is either positive or negative. Given a Yelp Review $T$ and a polarity feedback $y$ determine whether the Review $T$ is positive or negative. The training set $\\mathcal{D} = \\{(T_1, y_1), \\ldots, (T_N, y_N)\\}$, where $T_i$ is review $i$ and $y_i$ is $T_i$'s polarity feedback. A suitable evaluation metric for this type of problem is $\\rightarrow$ see Theory Question 1.\n",
        "\n",
        "In the following, please solve all subtasks."
      ]
    },
    {
      "cell_type": "markdown",
      "metadata": {
        "id": "DeeKpVG6s9x7"
      },
      "source": [
        "## Theory Question 1\n",
        "Which metric is threshold independent to evaluate the problem setting described in Task 2. Please list pros and cons of three different metrics that might be suitable, define an evaluation protocol and decide which evaluation suits this problem best."
      ]
    },
    {
      "cell_type": "code",
      "execution_count": null,
      "metadata": {
        "id": "dXMOXCwCs9x8"
      },
      "outputs": [],
      "source": []
    },
    {
      "cell_type": "markdown",
      "metadata": {
        "id": "MDmbdj-Ds9x8"
      },
      "source": [
        "## Task 2.0\n",
        "Load the Yelp Review Polarity dataset."
      ]
    },
    {
      "cell_type": "code",
      "execution_count": null,
      "metadata": {
        "id": "3-cPKGuus9x9"
      },
      "outputs": [],
      "source": []
    },
    {
      "cell_type": "markdown",
      "metadata": {
        "id": "PlRochOKs9x9"
      },
      "source": [
        "## Task 2.1\n",
        "Decide on a suitable language model from the HuggingFace model zoo (a library providing pretrained models)."
      ]
    },
    {
      "cell_type": "code",
      "execution_count": null,
      "metadata": {
        "id": "Nap1PL1es9x9"
      },
      "outputs": [],
      "source": []
    },
    {
      "cell_type": "markdown",
      "metadata": {
        "id": "0h0rgHM9s9x-"
      },
      "source": [
        "## Task 2.2\n",
        "\n",
        "For the model to process the intended way, we need the tokenizer that was used during training. Luckily Hugging Face  provides both pretrained models and tokenizer. After in Task 2.1 decided for a language model, please load the corresponding tokenizer."
      ]
    },
    {
      "cell_type": "code",
      "execution_count": null,
      "metadata": {
        "id": "klRNm499s9x-"
      },
      "outputs": [],
      "source": []
    },
    {
      "cell_type": "markdown",
      "metadata": {
        "id": "tmZwxqrDs9x_"
      },
      "source": [
        "## Task 2.3\n",
        "Load the language model from HuggingFace."
      ]
    },
    {
      "cell_type": "code",
      "execution_count": null,
      "metadata": {
        "id": "Dfk7kebFs9x_"
      },
      "outputs": [],
      "source": []
    },
    {
      "cell_type": "markdown",
      "metadata": {
        "id": "FRcPP6sPs9x_"
      },
      "source": [
        "## Task 2.4\n",
        "Fine-tune your model on the Yelp Review Polarity training data set. Note: If you have computational limitations consider fine-tuning only on part of the training dataset. "
      ]
    },
    {
      "cell_type": "code",
      "execution_count": null,
      "metadata": {
        "id": "13Nx72o_s9yA"
      },
      "outputs": [],
      "source": []
    },
    {
      "cell_type": "markdown",
      "metadata": {
        "id": "8xaGqCcEs9yB"
      },
      "source": [
        "## Task 2.5\n",
        "Evaluate your model, following the evaluation protocol you defined in Theory Question 1, on the test part of the Yelp Review Polarity data set."
      ]
    },
    {
      "cell_type": "code",
      "execution_count": null,
      "metadata": {
        "id": "pdqnnJaGs9yC"
      },
      "outputs": [],
      "source": []
    },
    {
      "cell_type": "markdown",
      "metadata": {
        "id": "yEibR93Hs9yC"
      },
      "source": [
        "# Task 3\n",
        "Visualize and interpret the attention weights of one correctly and one of the incorrectly classified examples of the Yelp Review Polarity test data using [BertViz](https://github.com/jessevig/bertviz)'s model_view."
      ]
    },
    {
      "cell_type": "code",
      "execution_count": null,
      "metadata": {
        "id": "J1YPLr3cs9yC"
      },
      "outputs": [],
      "source": []
    },
    {
      "cell_type": "markdown",
      "metadata": {
        "id": "bm05PFcMs9yD"
      },
      "source": [
        "## Theory Question 2\n",
        "In your own words, describe how the attention mechanism in a transformer works in the case of self-attention and cross-attention, identifying in each case the keys, queries, and values. Give two examples of alignment models and describe how they affect the output using a simple example. This part of the written report can be done in collaboration with your group."
      ]
    },
    {
      "cell_type": "code",
      "execution_count": null,
      "metadata": {
        "id": "nDj5j60Rs9yD"
      },
      "outputs": [],
      "source": []
    },
    {
      "cell_type": "markdown",
      "metadata": {
        "id": "1u-8cqs0s9yD"
      },
      "source": [
        "# Task 4\n",
        "Please describe your team's implementation of this project, including your personal contribution, in 1000-1500 characters. Each team member must explain the main aspects of the team's implementation, and may not discuss this summary with other students. You are allowed to use figures and tables to clarify. This summary constitutes a separately and individually graded piece of work."
      ]
    },
    {
      "cell_type": "code",
      "execution_count": null,
      "metadata": {
        "id": "U7FJBhNPs9yE"
      },
      "outputs": [],
      "source": []
    }
  ],
  "metadata": {
    "colab": {
      "provenance": []
    },
    "kernelspec": {
      "display_name": "base",
      "language": "python",
      "name": "python3"
    },
    "language_info": {
      "codemirror_mode": {
        "name": "ipython",
        "version": 3
      },
      "file_extension": ".py",
      "mimetype": "text/x-python",
      "name": "python",
      "nbconvert_exporter": "python",
      "pygments_lexer": "ipython3",
      "version": "3.10.9"
    },
    "vscode": {
      "interpreter": {
        "hash": "f94a2e1669021a1b826617800504e937bcc4e1c8d0dde6e9bfebb8455f6fae62"
      }
    }
  },
  "nbformat": 4,
  "nbformat_minor": 0
}
